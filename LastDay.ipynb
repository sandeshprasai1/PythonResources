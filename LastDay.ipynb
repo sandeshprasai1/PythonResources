{
 "cells": [
  {
   "cell_type": "code",
   "execution_count": null,
   "id": "55c3e34f",
   "metadata": {},
   "outputs": [],
   "source": [
    "print(\"hello\")"
   ]
  }
 ],
 "metadata": {
  "language_info": {
   "name": "python"
  }
 },
 "nbformat": 4,
 "nbformat_minor": 5
}
