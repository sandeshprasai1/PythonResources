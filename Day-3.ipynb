{
 "cells": [
  {
   "cell_type": "code",
   "execution_count": 4,
   "id": "2932cbf8",
   "metadata": {},
   "outputs": [
    {
     "name": "stdout",
     "output_type": "stream",
     "text": [
      "Requirement already satisfied: numpy in c:\\users\\user\\appdata\\local\\programs\\python\\python313\\lib\\site-packages (2.3.0)\n",
      "Note: you may need to restart the kernel to use updated packages.\n"
     ]
    },
    {
     "name": "stderr",
     "output_type": "stream",
     "text": [
      "\n",
      "[notice] A new release of pip is available: 25.0.1 -> 25.1.1\n",
      "[notice] To update, run: python.exe -m pip install --upgrade pip\n"
     ]
    }
   ],
   "source": [
    "%pip install numpy"
   ]
  },
  {
   "cell_type": "code",
   "execution_count": null,
   "id": "9df49d9b",
   "metadata": {},
   "outputs": [
    {
     "name": "stdout",
     "output_type": "stream",
     "text": [
      "[0. 0. 0. 0. 0. 0. 0. 0. 0. 0.]\n"
     ]
    },
    {
     "data": {
      "text/plain": [
       "array([0., 0., 0., 0., 0., 0., 0., 0., 0., 0.])"
      ]
     },
     "execution_count": 6,
     "metadata": {},
     "output_type": "execute_result"
    }
   ],
   "source": [
    "import numpy as np\n",
    "a = np.zeros(10)\n",
    "print(a)\n",
    "a"
   ]
  },
  {
   "cell_type": "code",
   "execution_count": 17,
   "id": "3a30400b",
   "metadata": {},
   "outputs": [
    {
     "data": {
      "text/plain": [
       "numpy.ndarray"
      ]
     },
     "execution_count": 17,
     "metadata": {},
     "output_type": "execute_result"
    }
   ],
   "source": [
    "type(a)"
   ]
  },
  {
   "cell_type": "code",
   "execution_count": 9,
   "id": "c0967b84",
   "metadata": {},
   "outputs": [
    {
     "name": "stdout",
     "output_type": "stream",
     "text": [
      "[1. 1. 1. 1. 1. 1. 1. 1. 1. 1.]\n"
     ]
    }
   ],
   "source": [
    "b = np.ones(10)\n",
    "print(b)"
   ]
  },
  {
   "cell_type": "code",
   "execution_count": 25,
   "id": "ac01bb9f",
   "metadata": {},
   "outputs": [
    {
     "name": "stdout",
     "output_type": "stream",
     "text": [
      "(5,)\n"
     ]
    },
    {
     "data": {
      "text/plain": [
       "array([0, 1, 2, 3, 4, 5, 6, 7, 8, 9])"
      ]
     },
     "execution_count": 25,
     "metadata": {},
     "output_type": "execute_result"
    }
   ],
   "source": [
    "z = np.zeros(5)\n",
    "print(z.shape)\n",
    "\n",
    "z.shape=(5,1)\n",
    "np.arange(10)"
   ]
  },
  {
   "cell_type": "code",
   "execution_count": null,
   "id": "19d4aa3f",
   "metadata": {},
   "outputs": [
    {
     "data": {
      "text/plain": [
       "array([[1., 0., 0.],\n",
       "       [0., 1., 0.],\n",
       "       [0., 0., 1.]])"
      ]
     },
     "execution_count": 27,
     "metadata": {},
     "output_type": "execute_result"
    }
   ],
   "source": [
    "e = np.eye(3)\n",
    "e"
   ]
  },
  {
   "cell_type": "code",
   "execution_count": null,
   "id": "9970783b",
   "metadata": {},
   "outputs": [
    {
     "data": {
      "text/plain": [
       "array([ 2.,  4.,  6.,  8., 10.])"
      ]
     },
     "execution_count": 28,
     "metadata": {},
     "output_type": "execute_result"
    }
   ],
   "source": [
    "z = np.linspace(2,10,5) #(start, end, no. of elements)\n",
    "z"
   ]
  },
  {
   "cell_type": "code",
   "execution_count": null,
   "id": "a9da6add",
   "metadata": {},
   "outputs": [
    {
     "data": {
      "text/plain": [
       "array([[1, 2, 3],\n",
       "       [4, 5, 6],\n",
       "       [7, 8, 9]])"
      ]
     },
     "execution_count": 29,
     "metadata": {},
     "output_type": "execute_result"
    }
   ],
   "source": [
    "arr1 = np.array([[1,2,3], \n",
    "                 [4,5,6]])\n",
    "arr2 = np.array([[7,8,9]])\n",
    "z = np.concatenate((arr1, arr2), axis = 0) # axis = 0 -> row and axis = 1 -> columns\n",
    "z"
   ]
  },
  {
   "cell_type": "code",
   "execution_count": 30,
   "id": "f164793e",
   "metadata": {},
   "outputs": [
    {
     "data": {
      "text/plain": [
       "array([[1, 2, 3, 7],\n",
       "       [4, 5, 6, 8]])"
      ]
     },
     "execution_count": 30,
     "metadata": {},
     "output_type": "execute_result"
    }
   ],
   "source": [
    "arr3 = np.array([[7],\n",
    "                 [8]])\n",
    "z = np.concatenate((arr1, arr3), axis=1)\n",
    "z"
   ]
  },
  {
   "cell_type": "code",
   "execution_count": 31,
   "id": "0958e954",
   "metadata": {},
   "outputs": [
    {
     "data": {
      "text/plain": [
       "array([1, 2, 3, 4, 5, 6, 8])"
      ]
     },
     "execution_count": 31,
     "metadata": {},
     "output_type": "execute_result"
    }
   ],
   "source": [
    "a_list = [1,2,3,4,5,6,8]\n",
    "z = np.array(a_list)\n",
    "z"
   ]
  },
  {
   "cell_type": "code",
   "execution_count": null,
   "id": "aef0ac3a",
   "metadata": {},
   "outputs": [
    {
     "name": "stdout",
     "output_type": "stream",
     "text": [
      "[ 1  2  2  3  4  6  6  8  8  9 12 13 19 19 20 21 21 21 22 22 23 24 25 26\n",
      " 29 31 32 32 32 33 34 34 35 36 36 37 37 37 37 37 38 38 40 41 43 46 47 49\n",
      " 49 50]\n"
     ]
    }
   ],
   "source": [
    "zz = np.random.randint(1, 51, size=50) # randint is for integers \n",
    "print(np.sort(zz))"
   ]
  },
  {
   "cell_type": "code",
   "execution_count": null,
   "id": "8dd9b95c",
   "metadata": {},
   "outputs": [
    {
     "data": {
      "text/plain": [
       "array([8, 6, 5, 4, 3, 2, 1])"
      ]
     },
     "execution_count": 37,
     "metadata": {},
     "output_type": "execute_result"
    }
   ],
   "source": [
    "z[0:2]\n",
    "z[::-1]"
   ]
  },
  {
   "cell_type": "code",
   "execution_count": 56,
   "id": "edea8063",
   "metadata": {},
   "outputs": [
    {
     "name": "stdout",
     "output_type": "stream",
     "text": [
      "5\n",
      "[[1 2 3]\n",
      " [3 5 6]\n",
      " [7 8 8]]\n"
     ]
    },
    {
     "data": {
      "text/plain": [
       "array([1, 2, 3, 3, 5, 6, 7, 8, 8, 7, 8, 8])"
      ]
     },
     "execution_count": 56,
     "metadata": {},
     "output_type": "execute_result"
    }
   ],
   "source": [
    "aa = np.array([[1,2,3],\n",
    "              [3,5,6]]) # row and colume starts trom 00 to .. like 0th row's oth column\n",
    "print(aa[1,1]) \n",
    "aa.ndim\n",
    "aa = np.append(aa, [[7,8,8]], axis=0)\n",
    "print(aa)\n",
    "aa = np.append(aa, [[7,8,8]]) # gives 1D array\n",
    "aa\n"
   ]
  },
  {
   "cell_type": "code",
   "execution_count": 51,
   "id": "15038128",
   "metadata": {},
   "outputs": [
    {
     "data": {
      "text/plain": [
       "2"
      ]
     },
     "execution_count": 51,
     "metadata": {},
     "output_type": "execute_result"
    }
   ],
   "source": [
    "aa.ndim"
   ]
  },
  {
   "cell_type": "code",
   "execution_count": null,
   "id": "d81556bf",
   "metadata": {},
   "outputs": [
    {
     "data": {
      "text/plain": [
       "array([[1, 2, 3],\n",
       "       [7, 8, 9],\n",
       "       [3, 5, 6]])"
      ]
     },
     "execution_count": 58,
     "metadata": {},
     "output_type": "execute_result"
    }
   ],
   "source": [
    "aa = np.array([[1,2,3],\n",
    "              [3,5,6]])\n",
    "aa = np.insert(aa,1,[7,8,9],axis=0) # 1 is index i.e., 1st row coz axis=0\n",
    "aa"
   ]
  },
  {
   "cell_type": "code",
   "execution_count": 59,
   "id": "ffb0c0c0",
   "metadata": {},
   "outputs": [
    {
     "data": {
      "text/plain": [
       "array([[ 1,  3,  2,  3],\n",
       "       [ 7, 45,  8,  9],\n",
       "       [ 3,  6,  5,  6]])"
      ]
     },
     "execution_count": 59,
     "metadata": {},
     "output_type": "execute_result"
    }
   ],
   "source": [
    "aa = np.insert(aa, 1, [3,45,6],axis=1)\n",
    "aa"
   ]
  },
  {
   "cell_type": "code",
   "execution_count": 61,
   "id": "a6d92adf",
   "metadata": {},
   "outputs": [
    {
     "data": {
      "text/plain": [
       "array([[1, 3, 2, 3]])"
      ]
     },
     "execution_count": 61,
     "metadata": {},
     "output_type": "execute_result"
    }
   ],
   "source": [
    "aa = np.delete(aa, 1, 0)# array, index, axis\n",
    "aa"
   ]
  },
  {
   "cell_type": "code",
   "execution_count": 64,
   "id": "8506255e",
   "metadata": {},
   "outputs": [
    {
     "data": {
      "text/plain": [
       "array([[ 1,  2,  3],\n",
       "       [ 2,  3,  4],\n",
       "       [ 4, 56,  6]])"
      ]
     },
     "execution_count": 64,
     "metadata": {},
     "output_type": "execute_result"
    }
   ],
   "source": [
    "newArray = np.array([[1,2,3],\n",
    "                     [2,3,4]])\n",
    "newArray = np.append(newArray,[[4,56,6]], axis=0)\n",
    "newArray"
   ]
  },
  {
   "cell_type": "code",
   "execution_count": 65,
   "id": "9313b18f",
   "metadata": {},
   "outputs": [],
   "source": [
    "newArray = np.delete(newArray, 1, 0)"
   ]
  },
  {
   "cell_type": "code",
   "execution_count": 66,
   "id": "25886449",
   "metadata": {},
   "outputs": [
    {
     "data": {
      "text/plain": [
       "array([[ 1,  2,  3],\n",
       "       [ 4, 56,  6]])"
      ]
     },
     "execution_count": 66,
     "metadata": {},
     "output_type": "execute_result"
    }
   ],
   "source": [
    "newArray"
   ]
  },
  {
   "cell_type": "code",
   "execution_count": 67,
   "id": "46c94f08",
   "metadata": {},
   "outputs": [],
   "source": [
    "newArray = np.delete(newArray, 1, 1)"
   ]
  },
  {
   "cell_type": "code",
   "execution_count": 68,
   "id": "bb01a9de",
   "metadata": {},
   "outputs": [
    {
     "data": {
      "text/plain": [
       "array([[1, 3],\n",
       "       [4, 6]])"
      ]
     },
     "execution_count": 68,
     "metadata": {},
     "output_type": "execute_result"
    }
   ],
   "source": [
    "newArray"
   ]
  },
  {
   "cell_type": "code",
   "execution_count": 5,
   "id": "8a87bd3b",
   "metadata": {},
   "outputs": [
    {
     "name": "stdout",
     "output_type": "stream",
     "text": [
      "Requirement already satisfied: scikit-image in c:\\users\\user\\appdata\\local\\programs\\python\\python313\\lib\\site-packages (0.25.2)\n",
      "Requirement already satisfied: numpy>=1.24 in c:\\users\\user\\appdata\\local\\programs\\python\\python313\\lib\\site-packages (from scikit-image) (2.3.0)\n",
      "Requirement already satisfied: scipy>=1.11.4 in c:\\users\\user\\appdata\\local\\programs\\python\\python313\\lib\\site-packages (from scikit-image) (1.15.3)\n",
      "Requirement already satisfied: networkx>=3.0 in c:\\users\\user\\appdata\\local\\programs\\python\\python313\\lib\\site-packages (from scikit-image) (3.5)\n",
      "Requirement already satisfied: pillow>=10.1 in c:\\users\\user\\appdata\\local\\programs\\python\\python313\\lib\\site-packages (from scikit-image) (11.2.1)\n",
      "Requirement already satisfied: imageio!=2.35.0,>=2.33 in c:\\users\\user\\appdata\\local\\programs\\python\\python313\\lib\\site-packages (from scikit-image) (2.37.0)\n",
      "Requirement already satisfied: tifffile>=2022.8.12 in c:\\users\\user\\appdata\\local\\programs\\python\\python313\\lib\\site-packages (from scikit-image) (2025.6.11)\n",
      "Requirement already satisfied: packaging>=21 in c:\\users\\user\\appdata\\roaming\\python\\python313\\site-packages (from scikit-image) (25.0)\n",
      "Requirement already satisfied: lazy-loader>=0.4 in c:\\users\\user\\appdata\\local\\programs\\python\\python313\\lib\\site-packages (from scikit-image) (0.4)\n",
      "Note: you may need to restart the kernel to use updated packages.\n"
     ]
    },
    {
     "name": "stderr",
     "output_type": "stream",
     "text": [
      "\n",
      "[notice] A new release of pip is available: 25.0.1 -> 25.1.1\n",
      "[notice] To update, run: python.exe -m pip install --upgrade pip\n"
     ]
    }
   ],
   "source": [
    "%pip install scikit-image"
   ]
  },
  {
   "cell_type": "code",
   "execution_count": 73,
   "id": "15a50ef8",
   "metadata": {},
   "outputs": [
    {
     "data": {
      "text/plain": [
       "numpy.ndarray"
      ]
     },
     "execution_count": 73,
     "metadata": {},
     "output_type": "execute_result"
    }
   ],
   "source": [
    "from skimage import io\n",
    "photo = io.imread(r'/Users/sudeepdemishra/Documents/NumPy/test.png')\n",
    "type(photo)"
   ]
  },
  {
   "cell_type": "code",
   "execution_count": 6,
   "id": "f21e6033",
   "metadata": {},
   "outputs": [
    {
     "name": "stdout",
     "output_type": "stream",
     "text": [
      "Requirement already satisfied: matplotlib in c:\\users\\user\\appdata\\local\\programs\\python\\python313\\lib\\site-packages (3.10.3)\n",
      "Requirement already satisfied: contourpy>=1.0.1 in c:\\users\\user\\appdata\\local\\programs\\python\\python313\\lib\\site-packages (from matplotlib) (1.3.2)\n",
      "Requirement already satisfied: cycler>=0.10 in c:\\users\\user\\appdata\\local\\programs\\python\\python313\\lib\\site-packages (from matplotlib) (0.12.1)\n",
      "Requirement already satisfied: fonttools>=4.22.0 in c:\\users\\user\\appdata\\local\\programs\\python\\python313\\lib\\site-packages (from matplotlib) (4.58.4)\n",
      "Requirement already satisfied: kiwisolver>=1.3.1 in c:\\users\\user\\appdata\\local\\programs\\python\\python313\\lib\\site-packages (from matplotlib) (1.4.8)\n",
      "Requirement already satisfied: numpy>=1.23 in c:\\users\\user\\appdata\\local\\programs\\python\\python313\\lib\\site-packages (from matplotlib) (2.3.0)\n",
      "Requirement already satisfied: packaging>=20.0 in c:\\users\\user\\appdata\\roaming\\python\\python313\\site-packages (from matplotlib) (25.0)\n",
      "Requirement already satisfied: pillow>=8 in c:\\users\\user\\appdata\\local\\programs\\python\\python313\\lib\\site-packages (from matplotlib) (11.2.1)\n",
      "Requirement already satisfied: pyparsing>=2.3.1 in c:\\users\\user\\appdata\\local\\programs\\python\\python313\\lib\\site-packages (from matplotlib) (3.2.3)\n",
      "Requirement already satisfied: python-dateutil>=2.7 in c:\\users\\user\\appdata\\roaming\\python\\python313\\site-packages (from matplotlib) (2.9.0.post0)\n",
      "Requirement already satisfied: six>=1.5 in c:\\users\\user\\appdata\\roaming\\python\\python313\\site-packages (from python-dateutil>=2.7->matplotlib) (1.17.0)\n",
      "Note: you may need to restart the kernel to use updated packages.\n"
     ]
    },
    {
     "name": "stderr",
     "output_type": "stream",
     "text": [
      "\n",
      "[notice] A new release of pip is available: 25.0.1 -> 25.1.1\n",
      "[notice] To update, run: python.exe -m pip install --upgrade pip\n"
     ]
    }
   ],
   "source": [
    "%pip install matplotlib"
   ]
  },
  {
   "cell_type": "code",
   "execution_count": 75,
   "id": "709ae119",
   "metadata": {},
   "outputs": [
    {
     "name": "stderr",
     "output_type": "stream",
     "text": [
      "Matplotlib is building the font cache; this may take a moment.\n"
     ]
    },
    {
     "data": {
      "text/plain": [
       "(1394, 2756, 4)"
      ]
     },
     "execution_count": 75,
     "metadata": {},
     "output_type": "execute_result"
    },
    {
     "data": {
      "image/png": "[encoded data removed]",
      "text/plain": [
       "<Figure size 640x480 with 1 Axes>"
      ]
     },
     "metadata": {},
     "output_type": "display_data"
    }
   ],
   "source": [
    "import matplotlib.pyplot as plt\n",
    "plt.imshow(photo)\n",
    "photo.shape"
   ]
  },
  {
   "cell_type": "code",
   "execution_count": null,
   "id": "014a4a1b",
   "metadata": {},
   "outputs": [
    {
     "data": {
      "text/plain": [
       "<matplotlib.image.AxesImage at 0x11b98a250>"
      ]
     },
     "execution_count": 76,
     "metadata": {},
     "output_type": "execute_result"
    },
    {
     "data": {
      "image/png": "[encoded data removed]",
      "text/plain": [
       "<Figure size 640x480 with 1 Axes>"
      ]
     },
     "metadata": {},
     "output_type": "display_data"
    }
   ],
   "source": [
    "plt.imshow(photo[::-1]) # Reverse Row"
   ]
  },
  {
   "cell_type": "code",
   "execution_count": null,
   "id": "99a5afcc",
   "metadata": {},
   "outputs": [
    {
     "data": {
      "text/plain": [
       "<matplotlib.image.AxesImage at 0x11b75db90>"
      ]
     },
     "execution_count": 77,
     "metadata": {},
     "output_type": "execute_result"
    },
    {
     "data": {
      "image/png": "[encoded data removed]",
      "text/plain": [
       "<Figure size 640x480 with 1 Axes>"
      ]
     },
     "metadata": {},
     "output_type": "display_data"
    }
   ],
   "source": [
    "plt.imshow(photo[:,::-1]) #Reverse column"
   ]
  },
  {
   "cell_type": "code",
   "execution_count": 78,
   "id": "199700b6",
   "metadata": {},
   "outputs": [
    {
     "data": {
      "text/plain": [
       "<matplotlib.image.AxesImage at 0x11d7eabd0>"
      ]
     },
     "execution_count": 78,
     "metadata": {},
     "output_type": "execute_result"
    },
    {
     "data": {
      "image/png": "[encoded data removed]",
      "text/plain": [
       "<Figure size 640x480 with 1 Axes>"
      ]
     },
     "metadata": {},
     "output_type": "display_data"
    }
   ],
   "source": [
    "plt.imshow(photo[200:800, 1000:1500])"
   ]
  },
  {
   "cell_type": "code",
   "execution_count": 79,
   "id": "f7758e9e",
   "metadata": {},
   "outputs": [
    {
     "data": {
      "text/plain": [
       "<matplotlib.image.AxesImage at 0x11d80f2d0>"
      ]
     },
     "execution_count": 79,
     "metadata": {},
     "output_type": "execute_result"
    },
    {
     "data": {
      "image/png": "[encoded data removed]",
      "text/plain": [
       "<Figure size 640x480 with 1 Axes>"
      ]
     },
     "metadata": {},
     "output_type": "display_data"
    }
   ],
   "source": [
    "plt.imshow(photo[::2, ::2])"
   ]
  },
  {
   "cell_type": "code",
   "execution_count": null,
   "id": "7edcfe36",
   "metadata": {},
   "outputs": [
    {
     "data": {
      "text/plain": [
       "<matplotlib.image.AxesImage at 0x11ba0c210>"
      ]
     },
     "execution_count": 80,
     "metadata": {},
     "output_type": "execute_result"
    },
    {
     "data": {
      "image/png": "[encoded data removed]",
      "text/plain": [
       "<Figure size 640x480 with 1 Axes>"
      ]
     },
     "metadata": {},
     "output_type": "display_data"
    }
   ],
   "source": [
    "plt.imshow(photo[:,:,0].T) # Transpose"
   ]
  },
  {
   "cell_type": "code",
   "execution_count": null,
   "id": "1435a3e3",
   "metadata": {},
   "outputs": [
    {
     "data": {
      "text/plain": [
       "<matplotlib.image.AxesImage at 0x11d8c4210>"
      ]
     },
     "execution_count": 81,
     "metadata": {},
     "output_type": "execute_result"
    },
    {
     "data": {
      "image/png": "[encoded data removed]",
      "text/plain": [
       "<Figure size 640x480 with 1 Axes>"
      ]
     },
     "metadata": {},
     "output_type": "display_data"
    }
   ],
   "source": [
    "photo_masked = np.where(photo>100,255,0) # replace values\n",
    "plt.imshow(photo_masked)"
   ]
  },
  {
   "cell_type": "code",
   "execution_count": 1,
   "id": "86fe7098",
   "metadata": {},
   "outputs": [
    {
     "ename": "NameError",
     "evalue": "name 'photo' is not defined",
     "output_type": "error",
     "traceback": [
      "\u001b[31m---------------------------------------------------------------------------\u001b[39m",
      "\u001b[31mNameError\u001b[39m                                 Traceback (most recent call last)",
      "\u001b[36mCell\u001b[39m\u001b[36m \u001b[39m\u001b[32mIn[1]\u001b[39m\u001b[32m, line 2\u001b[39m\n\u001b[32m      1\u001b[39m \u001b[38;5;28;01mimport\u001b[39;00m\u001b[38;5;250m \u001b[39m\u001b[34;01mnumpy\u001b[39;00m\u001b[38;5;250m \u001b[39m\u001b[38;5;28;01mas\u001b[39;00m\u001b[38;5;250m \u001b[39m\u001b[34;01mnp\u001b[39;00m\n\u001b[32m----> \u001b[39m\u001b[32m2\u001b[39m \u001b[38;5;28mprint\u001b[39m(np.sum(\u001b[43mphoto\u001b[49m))\n",
      "\u001b[31mNameError\u001b[39m: name 'photo' is not defined"
     ]
    }
   ],
   "source": [
    "import numpy as np\n",
    "print(np.sum(photo))"
   ]
  },
  {
   "cell_type": "code",
   "execution_count": 7,
   "id": "4b4e63c7",
   "metadata": {},
   "outputs": [
    {
     "data": {
      "text/plain": [
       "array([[  1,   8,  27,  64, 125]])"
      ]
     },
     "execution_count": 7,
     "metadata": {},
     "output_type": "execute_result"
    }
   ],
   "source": [
    "arr1=np.array([[1,2,3,4,5]])\n",
    "arr2=np.array([[6,7,8,9,10]])\n",
    "arr1+arr2\n",
    "z=np.power(arr1,3)\n",
    "z"
   ]
  },
  {
   "cell_type": "code",
   "execution_count": 9,
   "id": "cbd3ec77",
   "metadata": {},
   "outputs": [
    {
     "data": {
      "text/plain": [
       "array([[31, 32, 33, 34, 35]])"
      ]
     },
     "execution_count": 9,
     "metadata": {},
     "output_type": "execute_result"
    }
   ],
   "source": [
    "arr1+30"
   ]
  },
  {
   "cell_type": "code",
   "execution_count": 14,
   "id": "aa8d1514",
   "metadata": {},
   "outputs": [
    {
     "ename": "ValueError",
     "evalue": "cannot reshape array of size 12 into shape (0,2)",
     "output_type": "error",
     "traceback": [
      "\u001b[31m---------------------------------------------------------------------------\u001b[39m",
      "\u001b[31mValueError\u001b[39m                                Traceback (most recent call last)",
      "\u001b[36mCell\u001b[39m\u001b[36m \u001b[39m\u001b[32mIn[14]\u001b[39m\u001b[32m, line 1\u001b[39m\n\u001b[32m----> \u001b[39m\u001b[32m1\u001b[39m \u001b[43mnp\u001b[49m\u001b[43m.\u001b[49m\u001b[43marange\u001b[49m\u001b[43m(\u001b[49m\u001b[32;43m1\u001b[39;49m\u001b[43m,\u001b[49m\u001b[32;43m13\u001b[39;49m\u001b[43m)\u001b[49m\u001b[43m.\u001b[49m\u001b[43mreshape\u001b[49m\u001b[43m(\u001b[49m\u001b[32;43m0\u001b[39;49m\u001b[43m,\u001b[49m\u001b[32;43m2\u001b[39;49m\u001b[43m)\u001b[49m \u001b[38;5;66;03m# 1D to 2D array\u001b[39;00m\n",
      "\u001b[31mValueError\u001b[39m: cannot reshape array of size 12 into shape (0,2)"
     ]
    }
   ],
   "source": [
    "np.arange(1,13).reshape(0,2) # 1D to 2D array"
   ]
  },
  {
   "cell_type": "code",
   "execution_count": 17,
   "id": "c6615e69",
   "metadata": {},
   "outputs": [
    {
     "data": {
      "text/plain": [
       "1"
      ]
     },
     "execution_count": 17,
     "metadata": {},
     "output_type": "execute_result"
    }
   ],
   "source": [
    "a1=np.arange(10)\n",
    "a2=np.arange(12).reshape(2,6)\n",
    "a3=np.arange(8).reshape(2,2,2)\n",
    "np.ndim(a1)"
   ]
  },
  {
   "cell_type": "code",
   "execution_count": 21,
   "id": "cd37d43b",
   "metadata": {},
   "outputs": [
    {
     "ename": "SyntaxError",
     "evalue": "invalid syntax. Maybe you meant '==' or ':=' instead of '='? (2509539312.py, line 1)",
     "output_type": "error",
     "traceback": [
      "  \u001b[36mCell\u001b[39m\u001b[36m \u001b[39m\u001b[32mIn[21]\u001b[39m\u001b[32m, line 1\u001b[39m\n\u001b[31m    \u001b[39m\u001b[31marr=np.array( [[1,2,3], dtype=complex])\u001b[39m\n                            ^\n\u001b[31mSyntaxError\u001b[39m\u001b[31m:\u001b[39m invalid syntax. Maybe you meant '==' or ':=' instead of '='?\n"
     ]
    }
   ],
   "source": [
    "arr=np.array( [[1,2,3], dtype=complex])\n",
    "print(arr)"
   ]
  },
  {
   "cell_type": "code",
   "execution_count": 22,
   "id": "1d950b0e",
   "metadata": {},
   "outputs": [
    {
     "ename": "SyntaxError",
     "evalue": "closing parenthesis ']' does not match opening parenthesis '(' (68910575.py, line 1)",
     "output_type": "error",
     "traceback": [
      "  \u001b[36mCell\u001b[39m\u001b[36m \u001b[39m\u001b[32mIn[22]\u001b[39m\u001b[32m, line 1\u001b[39m\n\u001b[31m    \u001b[39m\u001b[31marr3=np.array([[1,2,3],[4,5,6], [7,8,9],[10,11,12]]])\u001b[39m\n                                                       ^\n\u001b[31mSyntaxError\u001b[39m\u001b[31m:\u001b[39m closing parenthesis ']' does not match opening parenthesis '('\n"
     ]
    }
   ],
   "source": [
    "arr3=np.array([[1,2,3],[4,5,6], [7,8,9],[10,11,12]]])\n",
    "print(arr3)"
   ]
  },
  {
   "cell_type": "code",
   "execution_count": 23,
   "id": "3cf0edd2",
   "metadata": {},
   "outputs": [
    {
     "name": "stdout",
     "output_type": "stream",
     "text": [
      "[[1.+0.j 2.+0.j 3.+0.j]]\n"
     ]
    }
   ],
   "source": [
    "import numpy as np\n",
    "\n",
    "arr = np.array([[1, 2, 3]], dtype=complex)\n",
    "print(arr)"
   ]
  },
  {
   "cell_type": "code",
   "execution_count": 24,
   "id": "ae79d93d",
   "metadata": {},
   "outputs": [
    {
     "name": "stdout",
     "output_type": "stream",
     "text": [
      "[[ 1  2  3]\n",
      " [ 4  5  6]\n",
      " [ 7  8  9]\n",
      " [10 11 12]]\n"
     ]
    }
   ],
   "source": [
    "import numpy as np\n",
    "\n",
    "arr3 = np.array([[1, 2, 3],\n",
    "                 [4, 5, 6],\n",
    "                 [7, 8, 9],\n",
    "                 [10, 11, 12]])\n",
    "\n",
    "print(arr3)\n",
    "\n"
   ]
  },
  {
   "cell_type": "code",
   "execution_count": 25,
   "id": "78356ca1",
   "metadata": {},
   "outputs": [
    {
     "name": "stdout",
     "output_type": "stream",
     "text": [
      "[[[9 9 9 9]\n",
      "  [9 9 9 9]\n",
      "  [9 9 9 9]]\n",
      "\n",
      " [[9 9 9 9]\n",
      "  [9 9 9 9]\n",
      "  [9 9 9 9]]]\n"
     ]
    }
   ],
   "source": [
    "a=np.full((2,3,4),9)  # Create a 3D array filled with 9s\n",
    "print(a)"
   ]
  },
  {
   "cell_type": "code",
   "execution_count": 28,
   "id": "f5404895",
   "metadata": {},
   "outputs": [],
   "source": [
    "# Create a 2D array with specific values\n",
    "import numpy as np\n",
    "matrix = np.array([[1, 2, 3],\n",
    "                   [4, 5, 6]])"
   ]
  },
  {
   "cell_type": "code",
   "execution_count": 27,
   "id": "2bcd9786",
   "metadata": {},
   "outputs": [
    {
     "data": {
      "text/plain": [
       "array([[11, 22, 33],\n",
       "       [14, 25, 36]])"
      ]
     },
     "execution_count": 27,
     "metadata": {},
     "output_type": "execute_result"
    }
   ],
   "source": [
    "broadcasting = matrix + np.array([10, 20, 30])  # Broadcasting: adding a 1D array to each row of a 2D array\n",
    "broadcasting"
   ]
  },
  {
   "cell_type": "code",
   "execution_count": 32,
   "id": "861bcb68",
   "metadata": {},
   "outputs": [
    {
     "name": "stdout",
     "output_type": "stream",
     "text": [
      "[[11 22 33]\n",
      " [14 25 36]\n",
      " [17 28 39]]\n"
     ]
    }
   ],
   "source": [
    "import numpy as np\n",
    "\n",
    "matrix1 = np.array([[1, 2, 3],\n",
    "                   [4, 5, 6],\n",
    "                   [7, 8, 9]])\n",
    "\n",
    "broadcasting = matrix + np.array([10, 20, 30])\n",
    "print(broadcasting)\n"
   ]
  },
  {
   "cell_type": "code",
   "execution_count": 30,
   "id": "462d07da",
   "metadata": {},
   "outputs": [
    {
     "ename": "NameError",
     "evalue": "name 'photo' is not defined",
     "output_type": "error",
     "traceback": [
      "\u001b[31m---------------------------------------------------------------------------\u001b[39m",
      "\u001b[31mNameError\u001b[39m                                 Traceback (most recent call last)",
      "\u001b[36mCell\u001b[39m\u001b[36m \u001b[39m\u001b[32mIn[30]\u001b[39m\u001b[32m, line 1\u001b[39m\n\u001b[32m----> \u001b[39m\u001b[32m1\u001b[39m \u001b[38;5;28mprint\u001b[39m(np.sum(\u001b[43mphoto\u001b[49m))\n\u001b[32m      2\u001b[39m \u001b[38;5;28mprint\u001b[39m(np.prod(photo))\n\u001b[32m      3\u001b[39m \u001b[38;5;28mprint\u001b[39m(np.mean(photo))\n",
      "\u001b[31mNameError\u001b[39m: name 'photo' is not defined"
     ]
    }
   ],
   "source": [
    "print(np.sum(photo))\n",
    "print(np.prod(photo))\n",
    "print(np.mean(photo))\n",
    "print(np.std(photo))\n",
    "print(np.var(photo))\n",
    "print(np.min(photo))\n",
    "print(np.max(photo))\n",
    "print(np.argmin(photo)) \n",
    "print(np.argmax(photo)) "
   ]
  },
  {
   "cell_type": "code",
   "execution_count": null,
   "id": "6c24105f",
   "metadata": {},
   "outputs": [],
   "source": [
    "matrix_determinant=np.linalg.det(matrix1)\n"
   ]
  },
  {
   "cell_type": "code",
   "execution_count": 35,
   "id": "34458dae",
   "metadata": {},
   "outputs": [
    {
     "name": "stdout",
     "output_type": "stream",
     "text": [
      "0.0\n"
     ]
    }
   ],
   "source": [
    "print(matrix_determinant)"
   ]
  },
  {
   "cell_type": "code",
   "execution_count": 36,
   "id": "37a0fb4e",
   "metadata": {},
   "outputs": [
    {
     "ename": "LinAlgError",
     "evalue": "Singular matrix",
     "output_type": "error",
     "traceback": [
      "\u001b[31m---------------------------------------------------------------------------\u001b[39m",
      "\u001b[31mLinAlgError\u001b[39m                               Traceback (most recent call last)",
      "\u001b[36mCell\u001b[39m\u001b[36m \u001b[39m\u001b[32mIn[36]\u001b[39m\u001b[32m, line 1\u001b[39m\n\u001b[32m----> \u001b[39m\u001b[32m1\u001b[39m matrix_inverse=\u001b[43mnp\u001b[49m\u001b[43m.\u001b[49m\u001b[43mlinalg\u001b[49m\u001b[43m.\u001b[49m\u001b[43minv\u001b[49m\u001b[43m(\u001b[49m\u001b[43mmatrix1\u001b[49m\u001b[43m)\u001b[49m \n",
      "\u001b[36mFile \u001b[39m\u001b[32mc:\\Users\\User\\AppData\\Local\\Programs\\Python\\Python313\\Lib\\site-packages\\numpy\\linalg\\_linalg.py:669\u001b[39m, in \u001b[36minv\u001b[39m\u001b[34m(a)\u001b[39m\n\u001b[32m    666\u001b[39m signature = \u001b[33m'\u001b[39m\u001b[33mD->D\u001b[39m\u001b[33m'\u001b[39m \u001b[38;5;28;01mif\u001b[39;00m isComplexType(t) \u001b[38;5;28;01melse\u001b[39;00m \u001b[33m'\u001b[39m\u001b[33md->d\u001b[39m\u001b[33m'\u001b[39m\n\u001b[32m    667\u001b[39m \u001b[38;5;28;01mwith\u001b[39;00m errstate(call=_raise_linalgerror_singular, invalid=\u001b[33m'\u001b[39m\u001b[33mcall\u001b[39m\u001b[33m'\u001b[39m,\n\u001b[32m    668\u001b[39m               over=\u001b[33m'\u001b[39m\u001b[33mignore\u001b[39m\u001b[33m'\u001b[39m, divide=\u001b[33m'\u001b[39m\u001b[33mignore\u001b[39m\u001b[33m'\u001b[39m, under=\u001b[33m'\u001b[39m\u001b[33mignore\u001b[39m\u001b[33m'\u001b[39m):\n\u001b[32m--> \u001b[39m\u001b[32m669\u001b[39m     ainv = \u001b[43m_umath_linalg\u001b[49m\u001b[43m.\u001b[49m\u001b[43minv\u001b[49m\u001b[43m(\u001b[49m\u001b[43ma\u001b[49m\u001b[43m,\u001b[49m\u001b[43m \u001b[49m\u001b[43msignature\u001b[49m\u001b[43m=\u001b[49m\u001b[43msignature\u001b[49m\u001b[43m)\u001b[49m\n\u001b[32m    670\u001b[39m \u001b[38;5;28;01mreturn\u001b[39;00m wrap(ainv.astype(result_t, copy=\u001b[38;5;28;01mFalse\u001b[39;00m))\n",
      "\u001b[36mFile \u001b[39m\u001b[32mc:\\Users\\User\\AppData\\Local\\Programs\\Python\\Python313\\Lib\\site-packages\\numpy\\linalg\\_linalg.py:163\u001b[39m, in \u001b[36m_raise_linalgerror_singular\u001b[39m\u001b[34m(err, flag)\u001b[39m\n\u001b[32m    162\u001b[39m \u001b[38;5;28;01mdef\u001b[39;00m\u001b[38;5;250m \u001b[39m\u001b[34m_raise_linalgerror_singular\u001b[39m(err, flag):\n\u001b[32m--> \u001b[39m\u001b[32m163\u001b[39m     \u001b[38;5;28;01mraise\u001b[39;00m LinAlgError(\u001b[33m\"\u001b[39m\u001b[33mSingular matrix\u001b[39m\u001b[33m\"\u001b[39m)\n",
      "\u001b[31mLinAlgError\u001b[39m: Singular matrix"
     ]
    }
   ],
   "source": [
    "matrix_inverse=np.linalg.inv(matrix1) "
   ]
  },
  {
   "cell_type": "code",
   "execution_count": 37,
   "id": "df54e68c",
   "metadata": {},
   "outputs": [
    {
     "name": "stdout",
     "output_type": "stream",
     "text": [
      "[[-2.   1. ]\n",
      " [ 1.5 -0.5]]\n"
     ]
    }
   ],
   "source": [
    "import numpy as np\n",
    "\n",
    "matrix1 = np.array([[1, 2],\n",
    "                    [3, 4]])\n",
    "\n",
    "matrix_inverse = np.linalg.inv(matrix1)\n",
    "print(matrix_inverse)"
   ]
  },
  {
   "cell_type": "code",
   "execution_count": 39,
   "id": "d0bd6483",
   "metadata": {},
   "outputs": [
    {
     "name": "stdout",
     "output_type": "stream",
     "text": [
      "32\n"
     ]
    }
   ],
   "source": [
    "arr1=np.array([1, 2, 3])\n",
    "arr2=np.array([4, 5, 6])\n",
    "dot_product = np.dot(arr1, arr2)\n",
    "print(dot_product)"
   ]
  },
  {
   "cell_type": "code",
   "execution_count": 40,
   "id": "717c6adc",
   "metadata": {},
   "outputs": [
    {
     "name": "stdout",
     "output_type": "stream",
     "text": [
      "[[ 1  2  3  4  5  6]\n",
      " [ 7  8  9 10 11 12]\n",
      " [13 14 15 16 17 18]\n",
      " [19 20 21 22 23 24]]\n"
     ]
    }
   ],
   "source": [
    "a=np.array([[1,2,3,4,5,6],\n",
    "           [7,8,9,10,11,12],\n",
    "           [13,14,15,16,17,18],\n",
    "           [19,20,21,22,23,24]])\n",
    "np.save(\"myarray.npy\", a)\n",
    "a= np.load(\"myarray.npy\")\n",
    "print(a)"
   ]
  },
  {
   "cell_type": "code",
   "execution_count": null,
   "id": "07eb443a",
   "metadata": {},
   "outputs": [],
   "source": [
    "API_KEY =\"3ea326742df5cb0629e00cc1d4403e40\""
   ]
  },
  {
   "cell_type": "code",
   "execution_count": null,
   "id": "383fef25",
   "metadata": {},
   "outputs": [],
   "source": [
    "api.openweathermap.org/data/2.5/weather?q={city}&appid={API_KEY}"
   ]
  },
  {
   "cell_type": "code",
   "execution_count": 41,
   "id": "f828dc00",
   "metadata": {},
   "outputs": [
    {
     "name": "stdout",
     "output_type": "stream",
     "text": [
      "Collecting requests\n",
      "  Downloading requests-2.32.4-py3-none-any.whl.metadata (4.9 kB)\n",
      "Collecting charset_normalizer<4,>=2 (from requests)\n",
      "  Downloading charset_normalizer-3.4.2-cp313-cp313-win_amd64.whl.metadata (36 kB)\n",
      "Collecting idna<4,>=2.5 (from requests)\n",
      "  Downloading idna-3.10-py3-none-any.whl.metadata (10 kB)\n",
      "Collecting urllib3<3,>=1.21.1 (from requests)\n",
      "  Downloading urllib3-2.5.0-py3-none-any.whl.metadata (6.5 kB)\n",
      "Collecting certifi>=2017.4.17 (from requests)\n",
      "  Downloading certifi-2025.6.15-py3-none-any.whl.metadata (2.4 kB)\n",
      "Downloading requests-2.32.4-py3-none-any.whl (64 kB)\n",
      "Downloading certifi-2025.6.15-py3-none-any.whl (157 kB)\n",
      "Downloading charset_normalizer-3.4.2-cp313-cp313-win_amd64.whl (105 kB)\n",
      "Downloading idna-3.10-py3-none-any.whl (70 kB)\n",
      "Downloading urllib3-2.5.0-py3-none-any.whl (129 kB)\n",
      "Installing collected packages: urllib3, idna, charset_normalizer, certifi, requests\n",
      "Successfully installed certifi-2025.6.15 charset_normalizer-3.4.2 idna-3.10 requests-2.32.4 urllib3-2.5.0\n",
      "Note: you may need to restart the kernel to use updated packages.\n"
     ]
    },
    {
     "name": "stderr",
     "output_type": "stream",
     "text": [
      "\n",
      "[notice] A new release of pip is available: 25.0.1 -> 25.1.1\n",
      "[notice] To update, run: python.exe -m pip install --upgrade pip\n"
     ]
    }
   ],
   "source": [
    "%pip install requests"
   ]
  },
  {
   "cell_type": "code",
   "execution_count": 42,
   "id": "8688abea",
   "metadata": {},
   "outputs": [],
   "source": [
    "import requests\n",
    "API_KEY=\"3ea326742df5cb0629e00cc1d4403e40\"\n",
    "city = \"London\"\n",
    "url = f\"http://api.openweathermap.org/data/2.5/weather?q={city}&appid={API_KEY}\"\n",
    "response = requests.get(url)"
   ]
  },
  {
   "cell_type": "code",
   "execution_count": 43,
   "id": "2a4a3c6e",
   "metadata": {},
   "outputs": [
    {
     "name": "stdout",
     "output_type": "stream",
     "text": [
      "{'coord': {'lon': -0.1257, 'lat': 51.5085}, 'weather': [{'id': 804, 'main': 'Clouds', 'description': 'overcast clouds', 'icon': '04d'}], 'base': 'stations', 'main': {'temp': 297.73, 'feels_like': 297.52, 'temp_min': 297.73, 'temp_max': 297.73, 'pressure': 1023, 'humidity': 49, 'sea_level': 1023, 'grnd_level': 1019}, 'visibility': 10000, 'wind': {'speed': 3.88, 'deg': 116, 'gust': 5.45}, 'clouds': {'all': 100}, 'dt': 1750413062, 'sys': {'country': 'GB', 'sunrise': 1750390975, 'sunset': 1750450873}, 'timezone': 3600, 'id': 2643743, 'name': 'London', 'cod': 200}\n"
     ]
    }
   ],
   "source": [
    "if response.status_code == 200:\n",
    "    weather_data = response.json()\n",
    "    print(weather_data)\n",
    "else:\n",
    "    print('error')"
   ]
  },
  {
   "cell_type": "code",
   "execution_count": 48,
   "id": "1fe99383",
   "metadata": {},
   "outputs": [
    {
     "name": "stdout",
     "output_type": "stream",
     "text": [
      "\n",
      "---Weather Information---\n",
      "\n",
      "---Weather Information---\n",
      "city: Patan\n",
      "temperature: (25.24,)C\n",
      "Weather: Overcast Clouds\n",
      "Humidity: 78%\n",
      "Wind Speed: 1.36 m/s\n",
      "\n",
      "---Weather Information---\n"
     ]
    }
   ],
   "source": [
    "import requests\n",
    "API_KEY = \"3ea326742df5cb0629e00cc1d4403e40\"\n",
    "BASE_URL = \"http://api.openweathermap.org/data/2.5/weather\"\n",
    "\n",
    "def get_weather(city):\n",
    "    try:\n",
    "        url = f\"{BASE_URL}?q={city}&appid={API_KEY}&units=metric\"\n",
    "        response = requests.get(url)\n",
    "        data= response.json()\n",
    "        if response.status_code == 200:\n",
    "            data=response.json()\n",
    "            weather={\n",
    "                \"city\": data[\"name\"],\n",
    "                \"temperature\": f\"{data[\"main\"][\"temp\"],}C\",\n",
    "                \"Weather\": data[\"weather\"][0][\"description\"].title(),\n",
    "                \"Humidity\": f\"{data[\"main\"][\"humidity\"]}%\",\n",
    "                \"Wind Speed\": f\"{data[\"wind\"][\"speed\"]} m/s\"\n",
    "            }\n",
    "            return weather\n",
    "        elif response.status_code == 404:\n",
    "            return { \"City not found\"}\n",
    "        else:\n",
    "            return { \"An error occurred.Status code: \",response.status_code}\n",
    "    except Exception as e:\n",
    "        print(\"error occured:\", e)\n",
    "    return None \n",
    "\n",
    "while True:\n",
    "    print(\"\\n---Weather Information---\")\n",
    "    city = input(\"Enter a city name (or 'q' to quit): \").strip()\n",
    "    if city.lower() == 'q':\n",
    "        break\n",
    "    weather = get_weather(city)\n",
    "    if weather:\n",
    "        display_weather(weather)   "
   ]
  },
  {
   "cell_type": "code",
   "execution_count": 46,
   "id": "ba8fa8da",
   "metadata": {},
   "outputs": [
    {
     "name": "stdout",
     "output_type": "stream",
     "text": [
      "\n",
      "---Weather Information---\n",
      "\n",
      "---Weather Information---\n",
      "City: Kathmandu\n",
      "Temperature: 25.55C\n",
      "Weather: Overcast Clouds\n",
      "Humidity: 78%\n",
      "Wind Speed: 1.77m/s\n",
      "\n",
      "---Weather Information---\n",
      "City not found\n",
      "\n",
      "---Weather Information---\n"
     ]
    }
   ],
   "source": [
    "## Weather App using OpenWeatherMap API\n",
    "import requests\n",
    "\n",
    "## API Setup\n",
    "API_KEY = \"3ea326742df5cb0629e00cc1d4403e40\"\n",
    "BASE_URL = \"https://api.openweathermap.org/data/2.5/weather\"\n",
    "\n",
    "## Get Weather Data\n",
    "def get_weather(city):\n",
    "    try:\n",
    "        url = f\"{BASE_URL}?q={city}&appid={API_KEY}&units=metric\"\n",
    "        response = requests.get(url)\n",
    "        data= response.json()\n",
    "        if response.status_code == 200:\n",
    "            data=response.json()\n",
    "            weather = {\n",
    "                \"City\": data[\"name\"],\n",
    "                \"Temperature\": f\"{data['main']['temp']}C\",\n",
    "                \"Weather\": data[\"weather\"][0]['description'].title(),\n",
    "                \"Humidity\": f\"{data['main']['humidity']}%\", \n",
    "                \"Wind Speed\": f\"{data['wind']['speed']}m/s\"\n",
    "            }\n",
    "            return weather\n",
    "        elif response.status_code == 404:\n",
    "            print(\"City not found\")\n",
    "        else:\n",
    "            print(\"An error occured. Status Code: \", response.status.code)\n",
    "    except Exception as e:\n",
    "        print(\"error Occured: \", e)\n",
    "    return None\n",
    "\n",
    "## Display the weather information\n",
    "def display_weather(weather):\n",
    "    print(\"\\n---Weather Information---\")\n",
    "    for key,value in weather.items():\n",
    "        print(f\"{key}: {value}\")\n",
    "\n",
    "## Main Program Loop\n",
    "while True:\n",
    "    print(\"\\n---Weather Information---\")\n",
    "    city = input(\"Enter a city name (or 'q' to quit): \").strip()\n",
    "    if city.lower() == 'q':\n",
    "        break\n",
    "    weather = get_weather(city)\n",
    "    if weather:\n",
    "        display_weather(weather)"
   ]
  },
  {
   "cell_type": "code",
   "execution_count": null,
   "id": "d91052bd",
   "metadata": {},
   "outputs": [],
   "source": []
  }
 ],
 "metadata": {
  "kernelspec": {
   "display_name": "Python 3",
   "language": "python",
   "name": "python3"
  },
  "language_info": {
   "codemirror_mode": {
    "name": "ipython",
    "version": 3
   },
   "file_extension": ".py",
   "mimetype": "text/x-python",
   "name": "python",
   "nbconvert_exporter": "python",
   "pygments_lexer": "ipython3",
   "version": "3.13.3"
  }
 },
 "nbformat": 4,
 "nbformat_minor": 5
}
