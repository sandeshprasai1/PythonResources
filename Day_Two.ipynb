{
 "cells": [
  {
   "cell_type": "markdown",
   "id": "1e4b53ec",
   "metadata": {},
   "source": [
    "## List, Sets and Tuples\n",
    "#### List = [] ordered and changeable, Duplicates ok\n",
    "#### Set = {} unordered and elements immutable, but Add/Remove Ok. No duplicates\n",
    "#### Tuples = () ordered and unchangeable. Duplicates ok, Faster"
   ]
  },
  {
   "cell_type": "code",
   "execution_count": 3,
   "id": "bdba4b7b",
   "metadata": {},
   "outputs": [
    {
     "name": "stdout",
     "output_type": "stream",
     "text": [
      "['apple', 'orange', 'banana', 'coconut']\n",
      "coconut\n",
      "['apple', 'orange', 'banana']\n",
      "['coconut', 'banana', 'orange', 'apple']\n"
     ]
    }
   ],
   "source": [
    "fruits = [\"apple\", \"orange\",\"banana\",\"coconut\"]\n",
    "print(fruits)\n",
    "print(fruits[3]) \n",
    "print(fruits[0:3])\n",
    "print(fruits[::-1])"
   ]
  },
  {
   "cell_type": "code",
   "execution_count": 29,
   "id": "4ee1563f",
   "metadata": {},
   "outputs": [
    {
     "name": "stdout",
     "output_type": "stream",
     "text": [
      "apple\n",
      "orange\n",
      "banana\n",
      "coconut\n"
     ]
    }
   ],
   "source": [
    "for fruit in fruits:\n",
    "    print(fruit)"
   ]
  },
  {
   "cell_type": "markdown",
   "id": "2679df2f",
   "metadata": {},
   "source": [
    "## List Methods"
   ]
  },
  {
   "cell_type": "code",
   "execution_count": null,
   "id": "ac8de236",
   "metadata": {},
   "outputs": [
    {
     "name": "stdout",
     "output_type": "stream",
     "text": [
      "['__add__', '__class__', '__class_getitem__', '__contains__', '__delattr__', '__delitem__', '__dir__', '__doc__', '__eq__', '__format__', '__ge__', '__getattribute__', '__getitem__', '__getstate__', '__gt__', '__hash__', '__iadd__', '__imul__', '__init__', '__init_subclass__', '__iter__', '__le__', '__len__', '__lt__', '__mul__', '__ne__', '__new__', '__reduce__', '__reduce_ex__', '__repr__', '__reversed__', '__rmul__', '__setattr__', '__setitem__', '__sizeof__', '__str__', '__subclasshook__', 'append', 'clear', 'copy', 'count', 'extend', 'index', 'insert', 'pop', 'remove', 'reverse', 'sort']\n"
     ]
    }
   ],
   "source": [
    "print(dir(fruits))"
   ]
  },
  {
   "cell_type": "code",
   "execution_count": 4,
   "id": "cfce637a",
   "metadata": {},
   "outputs": [
    {
     "name": "stdout",
     "output_type": "stream",
     "text": [
      "4\n"
     ]
    },
    {
     "data": {
      "text/plain": [
       "False"
      ]
     },
     "execution_count": 4,
     "metadata": {},
     "output_type": "execute_result"
    }
   ],
   "source": [
    "# print(help(fruits))\n",
    "print(len(fruits))\n",
    "fruits[0] = \"pineapple\"\n",
    "\"apple\" in fruits "
   ]
  },
  {
   "cell_type": "code",
   "execution_count": null,
   "id": "955bc936",
   "metadata": {},
   "outputs": [],
   "source": [
    "fruits.append(\"apple\")\n",
    "fruits.remove(\"pineapple\")\n",
    "fruits.pop(1)\n",
    "fruits.insert(1, \"pineapple\")\n",
    "\n"
   ]
  },
  {
   "cell_type": "code",
   "execution_count": null,
   "id": "a8f0a38e",
   "metadata": {},
   "outputs": [
    {
     "name": "stdout",
     "output_type": "stream",
     "text": [
      "[]\n"
     ]
    }
   ],
   "source": [
    "fruits.sort()\n",
    "\n",
    "fruits.reverse()\n"
   ]
  },
  {
   "cell_type": "code",
   "execution_count": null,
   "id": "f03112e6",
   "metadata": {},
   "outputs": [
    {
     "name": "stdout",
     "output_type": "stream",
     "text": [
      "3\n",
      "0\n"
     ]
    }
   ],
   "source": [
    "fruits.clear()\n",
    "print(fruits.index(\"coconut\"))\n",
    "print(fruits.count(\"pineapples\"))"
   ]
  },
  {
   "cell_type": "code",
   "execution_count": 19,
   "id": "37e60a66",
   "metadata": {},
   "outputs": [
    {
     "name": "stdout",
     "output_type": "stream",
     "text": [
      "True\n",
      "True\n",
      "False\n",
      "True\n"
     ]
    }
   ],
   "source": [
    "list1=[1,2,3,[4,5]]\n",
    "print(1 in list1)\n",
    "print([4,5] in list1)\n",
    "print(4 in list1) # since there is no element 4, but a list [4,5] is inside the list 1\n",
    "print(4 in list1[3]) # there is element inside the 4th element of the list"
   ]
  },
  {
   "cell_type": "code",
   "execution_count": null,
   "id": "0ceafd73",
   "metadata": {},
   "outputs": [
    {
     "name": "stdout",
     "output_type": "stream",
     "text": [
      "[4, 5, [6, 7, 8], 9]\n",
      "[6, 7, 8]\n"
     ]
    }
   ],
   "source": [
    "#list inside a list\n",
    "list=[1,2,3,[4,5,[6,7,8],9]]\n",
    "print(list[3])\n",
    "print(list[3][2]) \n",
    "\n",
    "# [Q] Print element 7"
   ]
  },
  {
   "cell_type": "markdown",
   "id": "56545e5a",
   "metadata": {},
   "source": [
    "## List Comprehension  -  [expression for item in iterable] shorte, faster, readibility\n"
   ]
  },
  {
   "cell_type": "code",
   "execution_count": null,
   "id": "b49d5153",
   "metadata": {},
   "outputs": [
    {
     "name": "stdout",
     "output_type": "stream",
     "text": [
      "[1, 4, 9, 16, 25]\n"
     ]
    }
   ],
   "source": [
    "squares = [x**2 for x in range(1, 6)]\n",
    "print(squares)  \n"
   ]
  },
  {
   "cell_type": "markdown",
   "id": "2af4845e",
   "metadata": {},
   "source": [
    "## [Q] Convert list of string to upper case"
   ]
  },
  {
   "cell_type": "code",
   "execution_count": null,
   "id": "e7a22fdc",
   "metadata": {},
   "outputs": [
    {
     "name": "stdout",
     "output_type": "stream",
     "text": [
      "['APPLE', 'BANANA', 'CHERRY']\n"
     ]
    }
   ],
   "source": [
    "words = ['apple', 'banana', 'cherry']\n",
    "uppercased = [word.upper() for word in words]\n",
    "print(uppercased) \n"
   ]
  },
  {
   "cell_type": "markdown",
   "id": "26e399cd",
   "metadata": {},
   "source": [
    "## SETS {} unordered and elements are immutable, No duplicates"
   ]
  },
  {
   "cell_type": "code",
   "execution_count": 145,
   "id": "bcd9873c",
   "metadata": {},
   "outputs": [],
   "source": [
    "fruits = {\"apple\", \"orange\",\"banana\",\"coconut\",\"coconut\"}\n",
    "# we cant alter values but we can add or remove elements"
   ]
  },
  {
   "cell_type": "code",
   "execution_count": 146,
   "id": "a2c8c4a3",
   "metadata": {},
   "outputs": [
    {
     "name": "stdout",
     "output_type": "stream",
     "text": [
      "{'apple', 'coconut', 'orange', 'banana'}\n"
     ]
    }
   ],
   "source": [
    "print(fruits)"
   ]
  },
  {
   "cell_type": "code",
   "execution_count": null,
   "id": "3fa4a940",
   "metadata": {},
   "outputs": [],
   "source": [
    "print(dir(fruits))\n",
    "print(fruits[0]) # cant use indexing because they're unordered"
   ]
  },
  {
   "cell_type": "code",
   "execution_count": null,
   "id": "4f047537",
   "metadata": {},
   "outputs": [],
   "source": [
    "fruits.remove(\"apple\")\n",
    "fruits.pop()\n",
    "print(fruits)"
   ]
  },
  {
   "cell_type": "markdown",
   "id": "e5061ad5",
   "metadata": {},
   "source": [
    "## Tuples () ordered and unchangeable. Duplicates ok, Faster"
   ]
  },
  {
   "cell_type": "code",
   "execution_count": 149,
   "id": "e44b21bc",
   "metadata": {},
   "outputs": [
    {
     "name": "stdout",
     "output_type": "stream",
     "text": [
      "('apple', 'orange', 'banana', 'coconut', 'coconut')\n"
     ]
    }
   ],
   "source": [
    "fruits = (\"apple\", \"orange\",\"banana\",\"coconut\",\"coconut\")\n",
    "print(fruits)"
   ]
  },
  {
   "cell_type": "code",
   "execution_count": 153,
   "id": "5b6105ce",
   "metadata": {},
   "outputs": [
    {
     "name": "stdout",
     "output_type": "stream",
     "text": [
      "apple\n",
      "2\n"
     ]
    }
   ],
   "source": [
    "# dir #help\n",
    "len(fruits)\n",
    "print(fruits[0])\n",
    "print(fruits.count(\"coconut\"))\n"
   ]
  },
  {
   "cell_type": "code",
   "execution_count": 164,
   "id": "c4e1b077",
   "metadata": {},
   "outputs": [
    {
     "name": "stdout",
     "output_type": "stream",
     "text": [
      "('Apple', 'banana', 'cherry', 'Watermelon', 'orange')\n"
     ]
    }
   ],
   "source": [
    "newTuple = ('Apple', 'banana', 'cherry', 'Watermelon')\n",
    "y = (\"orange\",)\n",
    "newTuple+=y\n",
    "print(newTuple)"
   ]
  },
  {
   "cell_type": "markdown",
   "id": "5f88d445",
   "metadata": {},
   "source": [
    "## Tuples Unpacking"
   ]
  },
  {
   "cell_type": "code",
   "execution_count": 7,
   "id": "b49edf1e",
   "metadata": {},
   "outputs": [
    {
     "name": "stdout",
     "output_type": "stream",
     "text": [
      "apple\n",
      "Banana\n",
      "cherry\n"
     ]
    }
   ],
   "source": [
    "fruits = ('apple', 'Banana', 'cherry')\n",
    "\n",
    "(green,yellow,red)=fruits\n",
    "print(green)\n",
    "print(yellow)\n",
    "print(red)\n",
    "\n",
    "(green , yellow, *red) = fruits"
   ]
  },
  {
   "cell_type": "markdown",
   "id": "a227e8c8",
   "metadata": {},
   "source": [
    "## Nested Tuples"
   ]
  },
  {
   "cell_type": "code",
   "execution_count": null,
   "id": "47af9c08",
   "metadata": {},
   "outputs": [
    {
     "name": "stdout",
     "output_type": "stream",
     "text": [
      "(('x', 1), ('y', 2))\n"
     ]
    }
   ],
   "source": [
    "t = (1, 2, (3, 4), [\"a\", \"b\"])"
   ]
  },
  {
   "cell_type": "markdown",
   "id": "96619e07",
   "metadata": {},
   "source": [
    "## They are single \"variable\" used to store multiple values"
   ]
  },
  {
   "cell_type": "markdown",
   "id": "4b13bef8",
   "metadata": {},
   "source": [
    "## [Q] Is this Tuple\n",
    "## fruits = (\"apples\")"
   ]
  },
  {
   "cell_type": "code",
   "execution_count": 20,
   "id": "23e583ce",
   "metadata": {},
   "outputs": [
    {
     "data": {
      "text/plain": [
       "['a', 'p', 'p', 'l', 'e', 's']"
      ]
     },
     "execution_count": 20,
     "metadata": {},
     "output_type": "execute_result"
    }
   ],
   "source": [
    "#del list\n",
    "fruits = (\"apples\")\n",
    "# print(type(fruits))\n",
    "list(fruits)"
   ]
  },
  {
   "cell_type": "markdown",
   "id": "b970d6fb",
   "metadata": {},
   "source": [
    "## [Q] Can Tuple items be of any data type? What about lists and sets?"
   ]
  },
  {
   "cell_type": "code",
   "execution_count": 155,
   "id": "0dc016b4",
   "metadata": {},
   "outputs": [
    {
     "name": "stdout",
     "output_type": "stream",
     "text": [
      "[1, 'hello', 3.14, True] (1, 'hello', 3.14, True) {'hello', 1, 3.14}\n"
     ]
    }
   ],
   "source": [
    "list = [1, \"hello\", 3.14, True]\n",
    "tuple = (1, \"hello\", 3.14, True)\n",
    "set = {1, \"hello\", 3.14, True}\n",
    "print(list,tuple,set)"
   ]
  },
  {
   "cell_type": "markdown",
   "id": "3343e498",
   "metadata": {},
   "source": [
    "## [Q] Create a list of fruits and Use if-statement to know if you have apples "
   ]
  },
  {
   "cell_type": "code",
   "execution_count": 21,
   "id": "d9f072a3",
   "metadata": {},
   "outputs": [
    {
     "name": "stdout",
     "output_type": "stream",
     "text": [
      "apples\n",
      "You have an apple\n"
     ]
    }
   ],
   "source": [
    "print(fruits)\n",
    "# fruits.append(\"pineapple\",\"banana\",\"coconut\")\n",
    "if \"apple\" in fruits:\n",
    "    print(\"You have an apple\")\n",
    "else:\n",
    "    print(\"you dont have an apple\")\n"
   ]
  },
  {
   "cell_type": "markdown",
   "id": "62b8554c",
   "metadata": {},
   "source": [
    "## [Q] Use while loop to print fruits"
   ]
  },
  {
   "cell_type": "code",
   "execution_count": null,
   "id": "e7328e2c",
   "metadata": {},
   "outputs": [],
   "source": [
    "i= 0 ;\n",
    "while i<len(fruits):\n",
    "    print(fruits[i])\n",
    "    i= i+1\n",
    "\n",
    "print(fruits*2)"
   ]
  },
  {
   "cell_type": "markdown",
   "id": "47610377",
   "metadata": {},
   "source": [
    "## time and space complexity of list and tuple"
   ]
  },
  {
   "cell_type": "code",
   "execution_count": 1,
   "id": "ed0eda2d",
   "metadata": {},
   "outputs": [
    {
     "name": "stdout",
     "output_type": "stream",
     "text": [
      "List time=  0.004392862319946289\n",
      "Tuple time=  0.0040740966796875\n",
      "List size 800056\n",
      "Tuple size 800040\n"
     ]
    }
   ],
   "source": [
    "#tuple has less time and space complexity than list\n",
    "import time\n",
    "import sys\n",
    "L=list(range(100000))\n",
    "T=tuple(range(100000))\n",
    "start= time.time()\n",
    "for i in L:\n",
    "  i*10\n",
    "print(\"List time= \",time.time()-start)\n",
    "start= time.time()\n",
    "for i in T:\n",
    "  i*10\n",
    "print('Tuple time= ',time.time()-start)\n",
    "print('List size',sys.getsizeof(L))\n",
    "print('Tuple size',sys.getsizeof(T))"
   ]
  },
  {
   "cell_type": "markdown",
   "id": "76bda975",
   "metadata": {},
   "source": [
    "## Dictionary - collection of key-value pairs -  unordered, mutable, and indexed data structure"
   ]
  },
  {
   "cell_type": "code",
   "execution_count": null,
   "id": "4b11e470",
   "metadata": {},
   "outputs": [
    {
     "name": "stdout",
     "output_type": "stream",
     "text": [
      "20\n",
      "20\n"
     ]
    }
   ],
   "source": [
    "student = {\n",
    "    1: \"first\",\n",
    "    \"name\": \"Alice\",\n",
    "    \"age\": 20,\n",
    "    \"courses\": [\"Math\", \"Science\"]\n",
    "}\n",
    "print(student[\"age\"])\n",
    "print(student.get(\"age\"))\n",
    "\n",
    "print(dir(data))\n",
    "print(help(data))\n",
    "\n",
    "# Using dict() constructor\n",
    "student = dict(name=\"Alice\", age=30, city=\"London\")\n"
   ]
  },
  {
   "cell_type": "markdown",
   "id": "ebf2af6a",
   "metadata": {},
   "source": [
    "## Adding and updating"
   ]
  },
  {
   "cell_type": "code",
   "execution_count": 190,
   "id": "ecabfd5e",
   "metadata": {},
   "outputs": [
    {
     "name": "stdout",
     "output_type": "stream",
     "text": [
      "{'name': 'Alice', 'age': 26, 'city': 'London', 'job': 'Engineer'}\n"
     ]
    }
   ],
   "source": [
    "student[\"job\"] = \"Engineer\"  \n",
    "student[\"age\"] = 26          \n",
    "print(student)"
   ]
  },
  {
   "cell_type": "markdown",
   "id": "71af3030",
   "metadata": {},
   "source": [
    "## Removing"
   ]
  },
  {
   "cell_type": "code",
   "execution_count": 187,
   "id": "b9c58244",
   "metadata": {},
   "outputs": [],
   "source": [
    "del student[\"city\"] "
   ]
  },
  {
   "cell_type": "markdown",
   "id": "fd6e6c92",
   "metadata": {},
   "source": [
    "## Checking if a key exists in dictionary"
   ]
  },
  {
   "cell_type": "code",
   "execution_count": 193,
   "id": "536e7439",
   "metadata": {},
   "outputs": [
    {
     "name": "stdout",
     "output_type": "stream",
     "text": [
      "Name exists\n"
     ]
    }
   ],
   "source": [
    "if \"Alice\" in student.values():\n",
    "    print(\"Name exists\")\n",
    "else:\n",
    "    print(\"Name does not exist\")\n"
   ]
  },
  {
   "cell_type": "markdown",
   "id": "48670dfa",
   "metadata": {},
   "source": [
    "## Iterating"
   ]
  },
  {
   "cell_type": "code",
   "execution_count": 8,
   "id": "682aa1ac",
   "metadata": {},
   "outputs": [
    {
     "ename": "NameError",
     "evalue": "name 'student' is not defined",
     "output_type": "error",
     "traceback": [
      "\u001b[1;31m---------------------------------------------------------------------------\u001b[0m",
      "\u001b[1;31mNameError\u001b[0m                                 Traceback (most recent call last)",
      "Cell \u001b[1;32mIn[8], line 1\u001b[0m\n\u001b[1;32m----> 1\u001b[0m \u001b[38;5;28;01mfor\u001b[39;00m key \u001b[38;5;129;01min\u001b[39;00m student:\n\u001b[0;32m      2\u001b[0m     \u001b[38;5;28mprint\u001b[39m(key)\n\u001b[0;32m      3\u001b[0m \u001b[38;5;28;01mfor\u001b[39;00m value \u001b[38;5;129;01min\u001b[39;00m student\u001b[38;5;241m.\u001b[39mvalues():\n",
      "\u001b[1;31mNameError\u001b[0m: name 'student' is not defined"
     ]
    }
   ],
   "source": [
    "for key in student:\n",
    "    print(key)\n",
    "for value in student.values():\n",
    "    print(value)\n",
    "for key, value in student.items():\n",
    "    print(key, value)"
   ]
  },
  {
   "cell_type": "code",
   "execution_count": null,
   "id": "e7548b5d",
   "metadata": {},
   "outputs": [
    {
     "name": "stdout",
     "output_type": "stream",
     "text": [
      "name Alice\n",
      "age 26\n",
      "city London\n",
      "job Engineer\n"
     ]
    }
   ],
   "source": []
  },
  {
   "cell_type": "markdown",
   "id": "94c6a7a7",
   "metadata": {},
   "source": [
    "## Nested Dictionary"
   ]
  },
  {
   "cell_type": "code",
   "execution_count": 202,
   "id": "adbb728e",
   "metadata": {},
   "outputs": [
    {
     "name": "stdout",
     "output_type": "stream",
     "text": [
      "Alice\n"
     ]
    }
   ],
   "source": [
    "students = {\n",
    "    \"student1\": {\"name\": \"Alice\", \"age\": 20},\n",
    "    \"student2\": {\"name\": \"Bob\", \"age\": 22}\n",
    "}\n",
    "\n",
    "print(students[\"student1\"][\"name\"])  # Alice\n"
   ]
  },
  {
   "cell_type": "markdown",
   "id": "4282b100",
   "metadata": {},
   "source": [
    "## Dictionary Comprehension"
   ]
  },
  {
   "cell_type": "code",
   "execution_count": 203,
   "id": "a2c85426",
   "metadata": {},
   "outputs": [
    {
     "name": "stdout",
     "output_type": "stream",
     "text": [
      "{0: 0, 1: 1, 2: 4, 3: 9, 4: 16}\n"
     ]
    }
   ],
   "source": [
    "squares = {x: x*x for x in range(5)}\n",
    "print(squares)  # {0:0, 1:1, 2:4, 3:9, 4:16}\n"
   ]
  },
  {
   "cell_type": "markdown",
   "id": "bf7bfacd",
   "metadata": {},
   "source": [
    "## Numpy"
   ]
  },
  {
   "cell_type": "code",
   "execution_count": null,
   "id": "31a8b538",
   "metadata": {},
   "outputs": [
    {
     "ename": "ModuleNotFoundError",
     "evalue": "No module named 'numpy'",
     "output_type": "error",
     "traceback": [
      "\u001b[31m---------------------------------------------------------------------------\u001b[39m",
      "\u001b[31mModuleNotFoundError\u001b[39m                       Traceback (most recent call last)",
      "\u001b[36mCell\u001b[39m\u001b[36m \u001b[39m\u001b[32mIn[2]\u001b[39m\u001b[32m, line 3\u001b[39m\n\u001b[32m      1\u001b[39m \u001b[38;5;66;03m# %pip install numpy\u001b[39;00m\n\u001b[32m----> \u001b[39m\u001b[32m3\u001b[39m \u001b[38;5;28;01mimport\u001b[39;00m\u001b[38;5;250m \u001b[39m\u001b[34;01mnumpy\u001b[39;00m\u001b[38;5;250m \u001b[39m\u001b[38;5;28;01mas\u001b[39;00m\u001b[38;5;250m \u001b[39m\u001b[34;01mnp\u001b[39;00m\n\u001b[32m      4\u001b[39m a= np.zeros(\u001b[32m10\u001b[39m)\n\u001b[32m      6\u001b[39m \u001b[38;5;28mprint\u001b[39m(a)\n",
      "\u001b[31mModuleNotFoundError\u001b[39m: No module named 'numpy'"
     ]
    }
   ],
   "source": [
    "# %pip install numpy\n",
    "\n",
    "import numpy as np  \n",
    "a= np.zeros(10)\n",
    "\n",
    "print(a)\n",
    "type(a[0])\n",
    "a\n",
    "\n",
    "# ones\n",
    "# empty"
   ]
  },
  {
   "cell_type": "code",
   "execution_count": null,
   "id": "6673c581",
   "metadata": {},
   "outputs": [
    {
     "name": "stdout",
     "output_type": "stream",
     "text": [
      "(5,)\n"
     ]
    },
    {
     "data": {
      "text/plain": [
       "array([0., 0., 0., 0., 0.])"
      ]
     },
     "execution_count": 20,
     "metadata": {},
     "output_type": "execute_result"
    }
   ],
   "source": [
    "z= np.zeros(5)\n",
    "print(z.shape)\n",
    "\n",
    "# z.shape = (5,1)\n",
    "\n",
    "# np.arrange"
   ]
  },
  {
   "cell_type": "code",
   "execution_count": null,
   "id": "20942a5d",
   "metadata": {},
   "outputs": [
    {
     "data": {
      "text/plain": [
       "array([ 2.,  4.,  6.,  8., 10.])"
      ]
     },
     "execution_count": 62,
     "metadata": {},
     "output_type": "execute_result"
    }
   ],
   "source": [
    "z = np.linspace(2,10,5) # useful for plotting\n",
    "z\n"
   ]
  },
  {
   "cell_type": "code",
   "execution_count": null,
   "id": "68e2fec1",
   "metadata": {},
   "outputs": [
    {
     "data": {
      "text/plain": [
       "0.30260664238902824"
      ]
     },
     "execution_count": 23,
     "metadata": {},
     "output_type": "execute_result"
    }
   ],
   "source": [
    "a_list= [1,2,3,4,5,6,7,8,9]\n",
    "z= np.array(a_list)\n",
    "z\n",
    "# print(dir(z))\n"
   ]
  },
  {
   "cell_type": "code",
   "execution_count": 79,
   "id": "20363c37",
   "metadata": {},
   "outputs": [
    {
     "name": "stdout",
     "output_type": "stream",
     "text": [
      "[ 1  2  2  4  4  6  6  6  7  7  8  9 11 12 12 13 14 15 15 15 17 17 19 22\n",
      " 23 25 25 25 25 26 27 27 30 32 35 36 37 38 39 39 42 42 42 44 46 46 47 48\n",
      " 48 49]\n"
     ]
    }
   ],
   "source": [
    "z= np.random.randint(1,51,size=50)\n",
    "print(np.sort(z))\n",
    "# ?z"
   ]
  },
  {
   "cell_type": "markdown",
   "id": "644e5ef8",
   "metadata": {},
   "source": [
    "## [Q] Generate random numbers between 1 and 50"
   ]
  },
  {
   "cell_type": "code",
   "execution_count": null,
   "id": "ad63daa4",
   "metadata": {},
   "outputs": [],
   "source": [
    "z= np.random.randint(1,51,size=50)\n",
    "print(np.sort(z))"
   ]
  },
  {
   "cell_type": "code",
   "execution_count": 82,
   "id": "830308bc",
   "metadata": {},
   "outputs": [
    {
     "data": {
      "text/plain": [
       "array([39, 26,  1, 12,  4, 15, 15, 42, 36, 42, 27, 17, 22,  6,  6, 46,  7,\n",
       "        7, 13, 49, 11,  2, 14, 39, 42, 23, 25, 15, 44,  4, 48, 32, 35, 46,\n",
       "       38,  6, 12, 25,  9, 19,  8, 48, 27,  2, 25, 17, 25, 37, 30, 47],\n",
       "      dtype=int32)"
      ]
     },
     "execution_count": 82,
     "metadata": {},
     "output_type": "execute_result"
    }
   ],
   "source": [
    "# z[0:2]\n",
    "z[::-1]"
   ]
  },
  {
   "cell_type": "markdown",
   "id": "81283b13",
   "metadata": {},
   "source": [
    "## methods"
   ]
  },
  {
   "cell_type": "code",
   "execution_count": null,
   "id": "2f145d57",
   "metadata": {},
   "outputs": [
    {
     "data": {
      "text/plain": [
       "array([[1, 2, 3]])"
      ]
     },
     "execution_count": 96,
     "metadata": {},
     "output_type": "execute_result"
    }
   ],
   "source": [
    "a= np.array([[1,2,3],\n",
    "            [4,5,6]])\n",
    "\n",
    "# a=np.append(a, [7,8,9])\n",
    "# a=np.insert(a,1,[4,5,6])  \n",
    "# a=np.delete(a,1)  \n",
    "a=np.delete(a,1,0)  # array,index,axis // axis 0 represents row\n",
    "a=np.delete(a,1,1)  # axis 1 represents column\n",
    "a"
   ]
  },
  {
   "cell_type": "markdown",
   "id": "9a59fa96",
   "metadata": {},
   "source": [
    "## Slicing of image"
   ]
  },
  {
   "cell_type": "code",
   "execution_count": 3,
   "id": "99ca21be",
   "metadata": {},
   "outputs": [
    {
     "data": {
      "text/plain": [
       "numpy.ndarray"
      ]
     },
     "execution_count": 3,
     "metadata": {},
     "output_type": "execute_result"
    }
   ],
   "source": [
    "# %pip install scikit-image\n",
    "from skimage import io\n",
    "#photo = io.imread('york_minister.jpg')\n",
    "photo = io.imread(r'D:\\Day1_PythonBasics\\part3.png')\n",
    "type(photo)\n"
   ]
  },
  {
   "cell_type": "code",
   "execution_count": null,
   "id": "299507e7",
   "metadata": {},
   "outputs": [],
   "source": [
    "%pip install matplotlib"
   ]
  },
  {
   "cell_type": "code",
   "execution_count": 16,
   "id": "5063646b",
   "metadata": {},
   "outputs": [
    {
     "data": {
      "text/plain": [
       "(1080, 1920, 4)"
      ]
     },
     "execution_count": 16,
     "metadata": {},
     "output_type": "execute_result"
    },
    {
     "data": {
      "image/png": "[encoded data removed]",
      "text/plain": [
       "<Figure size 640x480 with 1 Axes>"
      ]
     },
     "metadata": {},
     "output_type": "display_data"
    }
   ],
   "source": [
    "import matplotlib.pyplot as plt\n",
    "plt.imshow(photo)\n",
    "photo.shape"
   ]
  },
  {
   "cell_type": "code",
   "execution_count": null,
   "id": "ad8cb56a",
   "metadata": {},
   "outputs": [],
   "source": [
    "plt.imshow(photo[::-1])"
   ]
  },
  {
   "cell_type": "code",
   "execution_count": null,
   "id": "137b31bd",
   "metadata": {},
   "outputs": [],
   "source": [
    "plt.imshow(photo[:,::-1]) # reverse column"
   ]
  },
  {
   "cell_type": "code",
   "execution_count": null,
   "id": "ccb13bf4",
   "metadata": {},
   "outputs": [],
   "source": [
    "plt.imshow(photo[200:800,1000:1500])"
   ]
  },
  {
   "cell_type": "code",
   "execution_count": null,
   "id": "43990fcc",
   "metadata": {},
   "outputs": [],
   "source": [
    "plt.imshow(photo[::2, ::2]) # half size"
   ]
  },
  {
   "cell_type": "code",
   "execution_count": null,
   "id": "a3c99f6f",
   "metadata": {},
   "outputs": [],
   "source": [
    "plt.imshow(photo[:,:,0].T)"
   ]
  },
  {
   "cell_type": "code",
   "execution_count": null,
   "id": "9d0457e3",
   "metadata": {},
   "outputs": [],
   "source": [
    "import numpy as np\n",
    "photo_sin= np.sin(photo)\n",
    "photo_sin"
   ]
  },
  {
   "cell_type": "markdown",
   "id": "a3cd928f",
   "metadata": {},
   "source": [
    "## photo masking"
   ]
  },
  {
   "cell_type": "code",
   "execution_count": null,
   "id": "cf1be18d",
   "metadata": {},
   "outputs": [],
   "source": [
    "photo_masked= np.where(photo>100,255,0) # replace values greater that 100 with 255 and lower with 0\n",
    "plt.imshow(photo_masked)"
   ]
  },
  {
   "cell_type": "markdown",
   "id": "1ffa583c",
   "metadata": {},
   "source": [
    "## Mathematical operations"
   ]
  },
  {
   "cell_type": "code",
   "execution_count": 20,
   "id": "05be205c",
   "metadata": {},
   "outputs": [
    {
     "name": "stdout",
     "output_type": "stream",
     "text": [
      "791771809\n",
      "0\n",
      "95.4585996576003\n",
      "97.1158535219257\n",
      "9431.489005292127\n",
      "0\n",
      "255\n",
      "4474\n",
      "3\n"
     ]
    }
   ],
   "source": [
    "print(np.sum(photo))\n",
    "print(np.prod(photo))\n",
    "print(np.mean(photo))\n",
    "print(np.std(photo))\n",
    "print(np.var(photo))\n",
    "print(np.min(photo))\n",
    "print(np.max(photo))\n",
    "print(np.argmin(photo)) \n",
    "print(np.argmax(photo)) #index value of max"
   ]
  },
  {
   "cell_type": "markdown",
   "id": "7f3919f1",
   "metadata": {},
   "source": [
    "## Check and Compare"
   ]
  },
  {
   "cell_type": "code",
   "execution_count": 36,
   "id": "1a0e455d",
   "metadata": {},
   "outputs": [
    {
     "data": {
      "text/plain": [
       "array([ True,  True, False, False, False])"
      ]
     },
     "execution_count": 36,
     "metadata": {},
     "output_type": "execute_result"
    }
   ],
   "source": [
    "z= np.array([1,2,3,4,5])\n",
    "z<3\n",
    "# >"
   ]
  },
  {
   "cell_type": "markdown",
   "id": "6deb96e7",
   "metadata": {},
   "source": [
    "## [Q] Print only the values which shows true"
   ]
  },
  {
   "cell_type": "code",
   "execution_count": 24,
   "id": "ad48f8a5",
   "metadata": {},
   "outputs": [
    {
     "data": {
      "text/plain": [
       "array([1, 2])"
      ]
     },
     "execution_count": 24,
     "metadata": {},
     "output_type": "execute_result"
    }
   ],
   "source": [
    "z[z<3]"
   ]
  },
  {
   "cell_type": "markdown",
   "id": "d57167b6",
   "metadata": {},
   "source": [
    "## add two arrays"
   ]
  },
  {
   "cell_type": "code",
   "execution_count": null,
   "id": "35917440",
   "metadata": {},
   "outputs": [
    {
     "name": "stdout",
     "output_type": "stream",
     "text": [
      "[ 6  7  8  9 10]\n"
     ]
    }
   ],
   "source": [
    "arr1= np.array([1,2,3,4,5])\n",
    "arr2= np.array([6,7,8,9,10])\n",
    "arr1 + arr2\n"
   ]
  },
  {
   "cell_type": "markdown",
   "id": "f194b1de",
   "metadata": {},
   "source": [
    "## Add 30 to an array and multiply elements"
   ]
  },
  {
   "cell_type": "code",
   "execution_count": 30,
   "id": "94b6a30d",
   "metadata": {},
   "outputs": [
    {
     "data": {
      "text/plain": [
       "array([31, 32, 33, 34, 35])"
      ]
     },
     "execution_count": 30,
     "metadata": {},
     "output_type": "execute_result"
    }
   ],
   "source": [
    "arr1+30"
   ]
  },
  {
   "cell_type": "markdown",
   "id": "336a3761",
   "metadata": {},
   "source": [
    "## what does this do\n",
    "#### arr1 @ arr2"
   ]
  },
  {
   "cell_type": "code",
   "execution_count": 33,
   "id": "9c3d0890",
   "metadata": {},
   "outputs": [
    {
     "data": {
      "text/plain": [
       "np.int64(130)"
      ]
     },
     "execution_count": 33,
     "metadata": {},
     "output_type": "execute_result"
    }
   ],
   "source": [
    "arr1 @ arr2"
   ]
  },
  {
   "cell_type": "markdown",
   "id": "1b82faa5",
   "metadata": {},
   "source": [
    "## Sort"
   ]
  },
  {
   "cell_type": "code",
   "execution_count": 50,
   "id": "83cf6db8",
   "metadata": {},
   "outputs": [
    {
     "data": {
      "text/plain": [
       "array([1, 2, 3, 4, 5])"
      ]
     },
     "execution_count": 50,
     "metadata": {},
     "output_type": "execute_result"
    }
   ],
   "source": [
    "np.sort(arr1)\n",
    "\n",
    "# np.arange(1,11,3)"
   ]
  },
  {
   "cell_type": "markdown",
   "id": "996ba1a5",
   "metadata": {},
   "source": [
    "## Reshape"
   ]
  },
  {
   "cell_type": "code",
   "execution_count": 51,
   "id": "c6ac7697",
   "metadata": {},
   "outputs": [
    {
     "data": {
      "text/plain": [
       "array([[ 1,  2],\n",
       "       [ 3,  4],\n",
       "       [ 5,  6],\n",
       "       [ 7,  8],\n",
       "       [ 9, 10],\n",
       "       [11, 12]])"
      ]
     },
     "execution_count": 51,
     "metadata": {},
     "output_type": "execute_result"
    }
   ],
   "source": [
    "np.arange(1,13).reshape(6,2)"
   ]
  },
  {
   "cell_type": "markdown",
   "id": "ffac64aa",
   "metadata": {},
   "source": [
    "## Find Dimensions, size"
   ]
  },
  {
   "cell_type": "code",
   "execution_count": null,
   "id": "cc3f369e",
   "metadata": {},
   "outputs": [
    {
     "data": {
      "text/plain": [
       "10"
      ]
     },
     "execution_count": 58,
     "metadata": {},
     "output_type": "execute_result"
    }
   ],
   "source": [
    "a1=np.arange(10)\n",
    "a2=np.arange(12).reshape(2,6)\n",
    "a3=np.arange(8).reshape(2,2,2) # 2 blocks of 2 row and 2 column\n",
    "# np.ndim(a1)\n",
    "# a1.size"
   ]
  },
  {
   "cell_type": "markdown",
   "id": "0b137f00",
   "metadata": {},
   "source": [
    "## Data types"
   ]
  },
  {
   "cell_type": "code",
   "execution_count": null,
   "id": "1ae6fd8e",
   "metadata": {},
   "outputs": [
    {
     "name": "stdout",
     "output_type": "stream",
     "text": [
      "[1. 2. 3.]\n"
     ]
    }
   ],
   "source": [
    "#datatype\n",
    "#float bool complex\n",
    "arr=np.array([1,2,3],dtype=float)\n",
    "print(arr)"
   ]
  },
  {
   "cell_type": "markdown",
   "id": "cb6af74c",
   "metadata": {},
   "source": [
    "## 2D Array"
   ]
  },
  {
   "cell_type": "code",
   "execution_count": null,
   "id": "e85afb79",
   "metadata": {},
   "outputs": [
    {
     "name": "stdout",
     "output_type": "stream",
     "text": [
      "[[1 2 3]\n",
      " [4 5 6]]\n",
      "5\n"
     ]
    }
   ],
   "source": [
    "arr = [[1,2,3],[4,5,6]]\n",
    "arr2= np.array([arr])\n",
    "arr2\n",
    "\n",
    "arr2=np.array([[1,2,3],[4,5,6]])\n",
    "print(arr2)\n",
    "# print(arr2[1,1])"
   ]
  },
  {
   "cell_type": "markdown",
   "id": "de58fc92",
   "metadata": {},
   "source": [
    "## 3D Array"
   ]
  },
  {
   "cell_type": "code",
   "execution_count": 43,
   "id": "055e1f2f",
   "metadata": {},
   "outputs": [
    {
     "name": "stdout",
     "output_type": "stream",
     "text": [
      "[[[ 1  2  3]\n",
      "  [ 4  5  6]]\n",
      "\n",
      " [[ 7  8  9]\n",
      "  [10 11 12]]]\n"
     ]
    }
   ],
   "source": [
    "#3d array\n",
    "#tensor\n",
    "arr3=np.array([[[1,2,3],[4,5,6]],[[7,8,9],[10,11,12]]])\n",
    "print(arr3)"
   ]
  },
  {
   "cell_type": "code",
   "execution_count": 64,
   "id": "718d1a7e",
   "metadata": {},
   "outputs": [
    {
     "data": {
      "text/plain": [
       "array([[[9, 9, 9, 9],\n",
       "        [9, 9, 9, 9],\n",
       "        [9, 9, 9, 9]],\n",
       "\n",
       "       [[9, 9, 9, 9],\n",
       "        [9, 9, 9, 9],\n",
       "        [9, 9, 9, 9]]])"
      ]
     },
     "execution_count": 64,
     "metadata": {},
     "output_type": "execute_result"
    }
   ],
   "source": [
    "a= np.full((2,3,4),9)\n",
    "a"
   ]
  },
  {
   "cell_type": "markdown",
   "id": "22499d28",
   "metadata": {},
   "source": [
    "## Import and Export"
   ]
  },
  {
   "cell_type": "markdown",
   "id": "72a5a1a5",
   "metadata": {},
   "source": []
  },
  {
   "cell_type": "code",
   "execution_count": 100,
   "id": "af9a8d37",
   "metadata": {},
   "outputs": [
    {
     "name": "stdout",
     "output_type": "stream",
     "text": [
      "[[ 1  2  3  4  5  6]\n",
      " [ 7  8  9 10 11 12]\n",
      " [13 14 15 16 17 18]\n",
      " [19 20 21 22 23 24]]\n"
     ]
    }
   ],
   "source": [
    "a=np.array([[1,2,3,4,5,6],\n",
    "           [7,8,9,10,11,12],\n",
    "           [13,14,15,16,17,18],\n",
    "           [19,20,21,22,23,24]])\n",
    "np.save(\"myarray.npy\", a)\n",
    "a= np.load(\"myarray.npy\")\n",
    "print(a)\n"
   ]
  },
  {
   "cell_type": "code",
   "execution_count": null,
   "id": "a738e932",
   "metadata": {},
   "outputs": [],
   "source": []
  }
 ],
 "metadata": {
  "kernelspec": {
   "display_name": "Python 3",
   "language": "python",
   "name": "python3"
  },
  "language_info": {
   "codemirror_mode": {
    "name": "ipython",
    "version": 3
   },
   "file_extension": ".py",
   "mimetype": "text/x-python",
   "name": "python",
   "nbconvert_exporter": "python",
   "pygments_lexer": "ipython3",
   "version": "3.13.5"
  }
 },
 "nbformat": 4,
 "nbformat_minor": 5
}
