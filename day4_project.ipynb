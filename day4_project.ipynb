{
 "cells": [
  {
   "cell_type": "code",
   "execution_count": null,
   "id": "f4029d81",
   "metadata": {},
   "outputs": [],
   "source": [
    "API_KEY= \"d93f3c6ad12f4aa4ff04fd59ecac8053\"\n",
    "https://api.openweathermap.org/data/2.5/weather?q={city}&appid={API_KEY}"
   ]
  },
  {
   "cell_type": "code",
   "execution_count": 3,
   "id": "6e382cf6",
   "metadata": {},
   "outputs": [
    {
     "name": "stdout",
     "output_type": "stream",
     "text": [
      "Requirement already satisfied: requests in c:\\users\\acer\\appdata\\local\\programs\\python\\python313\\lib\\site-packages (2.32.4)\n",
      "Requirement already satisfied: charset_normalizer<4,>=2 in c:\\users\\acer\\appdata\\local\\programs\\python\\python313\\lib\\site-packages (from requests) (3.4.2)\n",
      "Requirement already satisfied: idna<4,>=2.5 in c:\\users\\acer\\appdata\\local\\programs\\python\\python313\\lib\\site-packages (from requests) (3.10)\n",
      "Requirement already satisfied: urllib3<3,>=1.21.1 in c:\\users\\acer\\appdata\\local\\programs\\python\\python313\\lib\\site-packages (from requests) (2.5.0)\n",
      "Requirement already satisfied: certifi>=2017.4.17 in c:\\users\\acer\\appdata\\local\\programs\\python\\python313\\lib\\site-packages (from requests) (2025.6.15)\n",
      "Note: you may need to restart the kernel to use updated packages.\n"
     ]
    },
    {
     "name": "stderr",
     "output_type": "stream",
     "text": [
      "\n",
      "[notice] A new release of pip is available: 24.3.1 -> 25.1.1\n",
      "[notice] To update, run: python.exe -m pip install --upgrade pip\n"
     ]
    }
   ],
   "source": [
    "%pip install requests\n"
   ]
  },
  {
   "cell_type": "code",
   "execution_count": 3,
   "id": "81090749",
   "metadata": {},
   "outputs": [
    {
     "name": "stdout",
     "output_type": "stream",
     "text": [
      "\n",
      "---Weather Information---\n",
      "\n",
      "---Weather Information---\n",
      "City: Mandalay\n",
      "Temperature: 31.23C\n",
      "Weather: Overcast Clouds\n",
      "Humidity: 66%\n",
      "Wind Speed: 5.91m/s\n",
      "\n",
      "---Weather Information---\n",
      "\n",
      "---Weather Information---\n",
      "City: Ilām\n",
      "Temperature: 25.25C\n",
      "Weather: Overcast Clouds\n",
      "Humidity: 89%\n",
      "Wind Speed: 2.29m/s\n",
      "\n",
      "---Weather Information---\n",
      "\n",
      "---Weather Information---\n",
      "City: Birtamod\n",
      "Temperature: 27.73C\n",
      "Weather: Overcast Clouds\n",
      "Humidity: 80%\n",
      "Wind Speed: 5.43m/s\n",
      "\n",
      "---Weather Information---\n",
      "City not found\n",
      "\n",
      "---Weather Information---\n"
     ]
    }
   ],
   "source": [
    "## Weather App using OpenWeatherMap API\n",
    "import requests\n",
    "\n",
    "## API Setup\n",
    "API_KEY = \"06b8db9a7daa0a22d9a21056d4cbcb60\"\n",
    "BASE_URL = \"https://api.openweathermap.org/data/2.5/weather\"\n",
    "\n",
    "## Get Weather Data\n",
    "def get_weather(city):\n",
    "    try:\n",
    "        url = f\"{BASE_URL}?q={city}&appid={API_KEY}&units=metric\"\n",
    "        response = requests.get(url)\n",
    "        data= response.json()\n",
    "        if response.status_code == 200:\n",
    "            data=response.json()\n",
    "            weather = {\n",
    "                \"City\": data[\"name\"],\n",
    "                \"Temperature\": f\"{data['main']['temp']}C\",\n",
    "                \"Weather\": data[\"weather\"][0]['description'].title(),\n",
    "                \"Humidity\": f\"{data['main']['humidity']}%\", \n",
    "                \"Wind Speed\": f\"{data['wind']['speed']}m/s\"\n",
    "            }\n",
    "            return weather\n",
    "        elif response.status_code == 404:\n",
    "            print(\"City not found\")\n",
    "        else:\n",
    "            print(\"An error occured. Status Code: \", response.status.code)\n",
    "    except Exception as e:\n",
    "        print(\"error Occured: \", e)\n",
    "    return None\n",
    "\n",
    "## Display the weather information\n",
    "def display_weather(weather):\n",
    "    print(\"\\n---Weather Information---\")\n",
    "    for key,value in weather.items():\n",
    "        print(f\"{key}: {value}\")\n",
    "\n",
    "## Main Program Loop\n",
    "while True:\n",
    "    print(\"\\n---Weather Information---\")\n",
    "    city = input(\"Enter a city name (or 'q' to quit): \").strip()\n",
    "    if city.lower() == 'q':\n",
    "        break\n",
    "    weather = get_weather(city)\n",
    "    if weather:\n",
    "        display_weather(weather)"
   ]
  },
  {
   "cell_type": "code",
   "execution_count": 4,
   "id": "a0b0eb1d",
   "metadata": {},
   "outputs": [
    {
     "name": "stdout",
     "output_type": "stream",
     "text": [
      "Collecting pandas\n",
      "  Downloading pandas-2.3.0-cp313-cp313-win_amd64.whl.metadata (19 kB)\n",
      "Requirement already satisfied: numpy>=1.26.0 in c:\\users\\acer\\appdata\\local\\programs\\python\\python313\\lib\\site-packages (from pandas) (2.3.0)\n",
      "Requirement already satisfied: python-dateutil>=2.8.2 in c:\\users\\acer\\appdata\\roaming\\python\\python313\\site-packages (from pandas) (2.9.0.post0)\n",
      "Collecting pytz>=2020.1 (from pandas)\n",
      "  Downloading pytz-2025.2-py2.py3-none-any.whl.metadata (22 kB)\n",
      "Collecting tzdata>=2022.7 (from pandas)\n",
      "  Downloading tzdata-2025.2-py2.py3-none-any.whl.metadata (1.4 kB)\n",
      "Requirement already satisfied: six>=1.5 in c:\\users\\acer\\appdata\\roaming\\python\\python313\\site-packages (from python-dateutil>=2.8.2->pandas) (1.17.0)\n",
      "Downloading pandas-2.3.0-cp313-cp313-win_amd64.whl (11.0 MB)\n",
      "   ---------------------------------------- 0.0/11.0 MB ? eta -:--:--\n",
      "    --------------------------------------- 0.3/11.0 MB ? eta -:--:--\n",
      "   - -------------------------------------- 0.5/11.0 MB 1.2 MB/s eta 0:00:09\n",
      "   -- ------------------------------------- 0.8/11.0 MB 1.3 MB/s eta 0:00:09\n",
      "   ---- ----------------------------------- 1.3/11.0 MB 1.8 MB/s eta 0:00:06\n",
      "   ----- ---------------------------------- 1.6/11.0 MB 1.6 MB/s eta 0:00:06\n",
      "   ------- -------------------------------- 2.1/11.0 MB 1.8 MB/s eta 0:00:05\n",
      "   ----------- ---------------------------- 3.1/11.0 MB 2.3 MB/s eta 0:00:04\n",
      "   -------------- ------------------------- 3.9/11.0 MB 2.5 MB/s eta 0:00:03\n",
      "   ------------------ --------------------- 5.0/11.0 MB 2.8 MB/s eta 0:00:03\n",
      "   --------------------- ------------------ 6.0/11.0 MB 3.0 MB/s eta 0:00:02\n",
      "   ----------------------- ---------------- 6.6/11.0 MB 3.1 MB/s eta 0:00:02\n",
      "   ---------------------------- ----------- 7.9/11.0 MB 3.4 MB/s eta 0:00:01\n",
      "   ------------------------------- -------- 8.7/11.0 MB 3.4 MB/s eta 0:00:01\n",
      "   ----------------------------------- ---- 9.7/11.0 MB 3.5 MB/s eta 0:00:01\n",
      "   -------------------------------------- - 10.5/11.0 MB 3.5 MB/s eta 0:00:01\n",
      "   ---------------------------------------- 11.0/11.0 MB 3.5 MB/s eta 0:00:00\n",
      "Downloading pytz-2025.2-py2.py3-none-any.whl (509 kB)\n",
      "Downloading tzdata-2025.2-py2.py3-none-any.whl (347 kB)\n",
      "Installing collected packages: pytz, tzdata, pandas\n",
      "Successfully installed pandas-2.3.0 pytz-2025.2 tzdata-2025.2\n",
      "Note: you may need to restart the kernel to use updated packages.\n"
     ]
    },
    {
     "name": "stderr",
     "output_type": "stream",
     "text": [
      "\n",
      "[notice] A new release of pip is available: 24.3.1 -> 25.1.1\n",
      "[notice] To update, run: python.exe -m pip install --upgrade pip\n"
     ]
    }
   ],
   "source": [
    "%pip install pandas\n"
   ]
  }
 ],
 "metadata": {
  "kernelspec": {
   "display_name": "Python 3",
   "language": "python",
   "name": "python3"
  },
  "language_info": {
   "codemirror_mode": {
    "name": "ipython",
    "version": 3
   },
   "file_extension": ".py",
   "mimetype": "text/x-python",
   "name": "python",
   "nbconvert_exporter": "python",
   "pygments_lexer": "ipython3",
   "version": "3.13.1"
  }
 },
 "nbformat": 4,
 "nbformat_minor": 5
}
