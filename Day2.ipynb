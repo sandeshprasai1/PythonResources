{
 "cells": [
  {
   "cell_type": "code",
   "execution_count": 1,
   "id": "5c17d4ad",
   "metadata": {},
   "outputs": [],
   "source": [
    "import numpy as np "
   ]
  },
  {
   "cell_type": "code",
   "execution_count": 2,
   "id": "c2037460",
   "metadata": {},
   "outputs": [
    {
     "name": "stdout",
     "output_type": "stream",
     "text": [
      "[0. 0. 0. 0. 0. 0. 0. 0. 0. 0.]\n"
     ]
    },
    {
     "data": {
      "text/plain": [
       "numpy.float64"
      ]
     },
     "execution_count": 2,
     "metadata": {},
     "output_type": "execute_result"
    }
   ],
   "source": [
    "a=np.zeros(10)\n",
    "print(a)\n",
    "type(a[0])"
   ]
  },
  {
   "cell_type": "code",
   "execution_count": 4,
   "id": "d365f4d2",
   "metadata": {},
   "outputs": [
    {
     "name": "stdout",
     "output_type": "stream",
     "text": [
      "[0. 0. 0. 0. 0. 0. 0. 0. 0. 0.]\n"
     ]
    }
   ],
   "source": [
    "type(a[1])\n",
    "print(a)"
   ]
  },
  {
   "cell_type": "code",
   "execution_count": 5,
   "id": "95c10d4d",
   "metadata": {},
   "outputs": [
    {
     "name": "stdout",
     "output_type": "stream",
     "text": [
      "[1. 1. 1. 1. 1. 1. 1. 1. 1. 1.]\n"
     ]
    },
    {
     "data": {
      "text/plain": [
       "numpy.float64"
      ]
     },
     "execution_count": 5,
     "metadata": {},
     "output_type": "execute_result"
    }
   ],
   "source": [
    "a=np.ones(10)\n",
    "print(a)\n",
    "type(a[0])"
   ]
  },
  {
   "cell_type": "code",
   "execution_count": 7,
   "id": "34649457",
   "metadata": {},
   "outputs": [
    {
     "ename": "SyntaxError",
     "evalue": "invalid syntax (3793471156.py, line 1)",
     "output_type": "error",
     "traceback": [
      "  \u001b[36mCell\u001b[39m\u001b[36m \u001b[39m\u001b[32mIn[7]\u001b[39m\u001b[32m, line 1\u001b[39m\n\u001b[31m    \u001b[39m\u001b[31ma=np.(10)\u001b[39m\n         ^\n\u001b[31mSyntaxError\u001b[39m\u001b[31m:\u001b[39m invalid syntax\n"
     ]
    }
   ],
   "source": [
    "a=np.(10)\n",
    "print(a)\n",
    "type(a[0])"
   ]
  },
  {
   "cell_type": "code",
   "execution_count": 8,
   "id": "36631344",
   "metadata": {},
   "outputs": [
    {
     "name": "stdout",
     "output_type": "stream",
     "text": [
      "[1. 1. 1. 1. 1. 1. 1. 1. 1. 1.]\n"
     ]
    },
    {
     "data": {
      "text/plain": [
       "numpy.float64"
      ]
     },
     "execution_count": 8,
     "metadata": {},
     "output_type": "execute_result"
    }
   ],
   "source": [
    "a=np.empty(10)\n",
    "print(a)\n",
    "type(a[0])"
   ]
  },
  {
   "cell_type": "code",
   "execution_count": 9,
   "id": "f4c71115",
   "metadata": {},
   "outputs": [
    {
     "name": "stdout",
     "output_type": "stream",
     "text": [
      "(5,)\n"
     ]
    }
   ],
   "source": [
    "z=np.zeros(5)\n",
    "print(z.shape)"
   ]
  },
  {
   "cell_type": "code",
   "execution_count": 10,
   "id": "48e0b22c",
   "metadata": {},
   "outputs": [],
   "source": [
    "z.shape=(5,1)"
   ]
  },
  {
   "cell_type": "code",
   "execution_count": 14,
   "id": "83dadf28",
   "metadata": {},
   "outputs": [
    {
     "data": {
      "text/plain": [
       "array([0, 1, 2, 3, 4, 5, 6, 7, 8, 9])"
      ]
     },
     "execution_count": 14,
     "metadata": {},
     "output_type": "execute_result"
    }
   ],
   "source": [
    "np.arange(10)"
   ]
  },
  {
   "cell_type": "code",
   "execution_count": 15,
   "id": "70bfc350",
   "metadata": {},
   "outputs": [],
   "source": [
    "e=np.eye(3)"
   ]
  },
  {
   "cell_type": "code",
   "execution_count": 16,
   "id": "81128477",
   "metadata": {},
   "outputs": [
    {
     "name": "stdout",
     "output_type": "stream",
     "text": [
      "[[1. 0. 0.]\n",
      " [0. 1. 0.]\n",
      " [0. 0. 1.]]\n"
     ]
    }
   ],
   "source": [
    "print(e)"
   ]
  },
  {
   "cell_type": "code",
   "execution_count": 19,
   "id": "ba512ba6",
   "metadata": {},
   "outputs": [
    {
     "name": "stdout",
     "output_type": "stream",
     "text": [
      "[[1 2 3]\n",
      " [4 5 6]\n",
      " [7 8 9]]\n"
     ]
    }
   ],
   "source": [
    "arr1=np.array([[1,2,3],[4,5,6]])\n",
    "arr2=np.array([[7,8,9]])\n",
    "z=np.concatenate((arr1,arr2),axis=0)\n",
    "print(z)"
   ]
  },
  {
   "cell_type": "code",
   "execution_count": 20,
   "id": "0362fe5e",
   "metadata": {},
   "outputs": [
    {
     "name": "stdout",
     "output_type": "stream",
     "text": [
      "[[1 2 3 7]\n",
      " [4 5 6 8]]\n"
     ]
    }
   ],
   "source": [
    "arr2=np.array([[7],\n",
    "               [8]])\n",
    "z=np.concatenate((arr1,arr2),axis=1)\n",
    "print(z)"
   ]
  },
  {
   "cell_type": "code",
   "execution_count": 21,
   "id": "2fe3457c",
   "metadata": {},
   "outputs": [
    {
     "ename": "ValueError",
     "evalue": "zero-dimensional arrays cannot be concatenated",
     "output_type": "error",
     "traceback": [
      "\u001b[31m---------------------------------------------------------------------------\u001b[39m",
      "\u001b[31mValueError\u001b[39m                                Traceback (most recent call last)",
      "\u001b[36mCell\u001b[39m\u001b[36m \u001b[39m\u001b[32mIn[21]\u001b[39m\u001b[32m, line 2\u001b[39m\n\u001b[32m      1\u001b[39m a_list=[\u001b[32m1\u001b[39m,\u001b[32m2\u001b[39m,\u001b[32m3\u001b[39m,\u001b[32m4\u001b[39m,\u001b[32m5\u001b[39m,\u001b[32m6\u001b[39m,\u001b[32m7\u001b[39m,\u001b[32m8\u001b[39m,\u001b[32m9\u001b[39m]\n\u001b[32m----> \u001b[39m\u001b[32m2\u001b[39m z=\u001b[43mnp\u001b[49m\u001b[43m.\u001b[49m\u001b[43mconcatenate\u001b[49m\u001b[43m(\u001b[49m\u001b[43ma_list\u001b[49m\u001b[43m)\u001b[49m\n\u001b[32m      3\u001b[39m \u001b[38;5;28mprint\u001b[39m(z)\n",
      "\u001b[31mValueError\u001b[39m: zero-dimensional arrays cannot be concatenated"
     ]
    }
   ],
   "source": [
    "a_list=[1,2,3,4,5,6,7,8,9]\n",
    "z=np.concatenate(a_list)\n",
    "print(z)"
   ]
  },
  {
   "cell_type": "code",
   "execution_count": 23,
   "id": "67de0f14",
   "metadata": {},
   "outputs": [
    {
     "name": "stdout",
     "output_type": "stream",
     "text": [
      "[ 5  7  7  9 11 12 15 17 18 21 26 29 31 31 37 40 41 42 45 49 50 52 53 54\n",
      " 62 63 65 66 66 68 68 71 71 73 73 74 74 76 77 84 84 85 86 86 94 95 96 97\n",
      " 97 98]\n"
     ]
    }
   ],
   "source": [
    "z=np.random.randint(1,100,size=50)\n",
    "print(np.sort(z))"
   ]
  },
  {
   "cell_type": "code",
   "execution_count": 24,
   "id": "f4bbd24c",
   "metadata": {},
   "outputs": [
    {
     "data": {
      "text/plain": [
       "array([71, 73], dtype=int32)"
      ]
     },
     "execution_count": 24,
     "metadata": {},
     "output_type": "execute_result"
    }
   ],
   "source": [
    "z[0:2]"
   ]
  },
  {
   "cell_type": "code",
   "execution_count": 29,
   "id": "8c9c75bd",
   "metadata": {},
   "outputs": [
    {
     "name": "stdout",
     "output_type": "stream",
     "text": [
      "[[1 2 3]\n",
      " [4 5 6]]\n",
      "5\n"
     ]
    }
   ],
   "source": [
    "a=np.array([[1,2,3],\n",
    "           [4,5,6]])\n",
    "print(a)\n",
    "print(a[1,1])"
   ]
  },
  {
   "cell_type": "code",
   "execution_count": 30,
   "id": "2328f985",
   "metadata": {},
   "outputs": [
    {
     "data": {
      "text/plain": [
       "2"
      ]
     },
     "execution_count": 30,
     "metadata": {},
     "output_type": "execute_result"
    }
   ],
   "source": [
    "a.ndim"
   ]
  },
  {
   "cell_type": "code",
   "execution_count": 31,
   "id": "8fab91e2",
   "metadata": {},
   "outputs": [
    {
     "name": "stdout",
     "output_type": "stream",
     "text": [
      "[[1 2 3]\n",
      " [4 5 6]\n",
      " [7 8 9]]\n"
     ]
    }
   ],
   "source": [
    "a=np.append(a,[[7,8,9]],axis=0)\n",
    "print(a)"
   ]
  },
  {
   "cell_type": "code",
   "execution_count": 32,
   "id": "ebceadbc",
   "metadata": {},
   "outputs": [
    {
     "data": {
      "text/plain": [
       "2"
      ]
     },
     "execution_count": 32,
     "metadata": {},
     "output_type": "execute_result"
    }
   ],
   "source": [
    "a.ndim"
   ]
  },
  {
   "cell_type": "code",
   "execution_count": 34,
   "id": "da30b248",
   "metadata": {},
   "outputs": [
    {
     "name": "stdout",
     "output_type": "stream",
     "text": [
      "[1 2 3 4 5 6 7 8 9 7 8 9]\n"
     ]
    }
   ],
   "source": [
    "a=np.append(a,[[7,8,9]])\n",
    "print(a)"
   ]
  },
  {
   "cell_type": "code",
   "execution_count": 49,
   "id": "98eacaac",
   "metadata": {},
   "outputs": [
    {
     "name": "stdout",
     "output_type": "stream",
     "text": [
      "[[ 1  2  3]\n",
      " [11 23 45]\n",
      " [ 4  5  6]]\n"
     ]
    }
   ],
   "source": [
    "a=np.array([[1,2,3],\n",
    "           [4,5,6]])\n",
    "a=np.insert(a,1,[11,23,45\n",
    "                 ],axis=0)\n",
    "print(a)"
   ]
  },
  {
   "cell_type": "code",
   "execution_count": 50,
   "id": "dba7c600",
   "metadata": {},
   "outputs": [
    {
     "name": "stdout",
     "output_type": "stream",
     "text": [
      "[[1 2 3]\n",
      " [4 5 6]]\n"
     ]
    }
   ],
   "source": [
    "a=np.delete(a,1,0)\n",
    "print(a)"
   ]
  },
  {
   "cell_type": "code",
   "execution_count": 51,
   "id": "bc95b618",
   "metadata": {},
   "outputs": [
    {
     "name": "stdout",
     "output_type": "stream",
     "text": [
      "[[1 3]\n",
      " [4 6]]\n"
     ]
    }
   ],
   "source": [
    "a=np.delete(a,1,1)\n",
    "print(a)"
   ]
  },
  {
   "cell_type": "code",
   "execution_count": null,
   "id": "550fa553",
   "metadata": {},
   "outputs": [
    {
     "name": "stdout",
     "output_type": "stream",
     "text": [
      "^C\n",
      "Note: you may need to restart the kernel to use updated packages.\n"
     ]
    },
    {
     "name": "stderr",
     "output_type": "stream",
     "text": [
      "\n",
      "[notice] A new release of pip is available: 24.3.1 -> 25.1.1\n",
      "[notice] To update, run: python.exe -m pip install --upgrade pip\n"
     ]
    },
    {
     "name": "stdout",
     "output_type": "stream",
     "text": [
      "Collecting scikit-image\n",
      "  Using cached scikit_image-0.25.2-cp313-cp313-win_amd64.whl.metadata (14 kB)\n",
      "Requirement already satisfied: numpy>=1.24 in c:\\users\\asus\\appdata\\local\\programs\\python\\python313\\lib\\site-packages (from scikit-image) (2.3.0)\n",
      "Collecting scipy>=1.11.4 (from scikit-image)\n",
      "  Using cached scipy-1.15.3-cp313-cp313-win_amd64.whl.metadata (60 kB)\n",
      "Collecting networkx>=3.0 (from scikit-image)\n",
      "  Using cached networkx-3.5-py3-none-any.whl.metadata (6.3 kB)\n",
      "Collecting pillow>=10.1 (from scikit-image)\n",
      "  Using cached pillow-11.2.1-cp313-cp313-win_amd64.whl.metadata (9.1 kB)\n",
      "Collecting imageio!=2.35.0,>=2.33 (from scikit-image)\n",
      "  Using cached imageio-2.37.0-py3-none-any.whl.metadata (5.2 kB)\n",
      "Collecting tifffile>=2022.8.12 (from scikit-image)\n",
      "  Using cached tifffile-2025.6.11-py3-none-any.whl.metadata (32 kB)\n",
      "Requirement already satisfied: packaging>=21 in c:\\users\\asus\\appdata\\roaming\\python\\python313\\site-packages (from scikit-image) (25.0)\n",
      "Collecting lazy-loader>=0.4 (from scikit-image)\n",
      "  Using cached lazy_loader-0.4-py3-none-any.whl.metadata (7.6 kB)\n",
      "Using cached scikit_image-0.25.2-cp313-cp313-win_amd64.whl (12.9 MB)\n",
      "Using cached imageio-2.37.0-py3-none-any.whl (315 kB)\n",
      "Using cached lazy_loader-0.4-py3-none-any.whl (12 kB)\n",
      "Using cached networkx-3.5-py3-none-any.whl (2.0 MB)\n",
      "Using cached pillow-11.2.1-cp313-cp313-win_amd64.whl (2.7 MB)\n",
      "Downloading scipy-1.15.3-cp313-cp313-win_amd64.whl (41.0 MB)\n",
      "   ---------------------------------------- 0.0/41.0 MB ? eta -:--:--\n",
      "   ---------------------------------------- 0.3/41.0 MB ? eta -:--:--\n",
      "    --------------------------------------- 0.8/41.0 MB 2.6 MB/s eta 0:00:16\n",
      "   - -------------------------------------- 1.3/41.0 MB 2.4 MB/s eta 0:00:17\n",
      "   - -------------------------------------- 1.8/41.0 MB 2.6 MB/s eta 0:00:16\n",
      "   -- ------------------------------------- 2.4/41.0 MB 2.4 MB/s eta 0:00:16\n",
      "   -- ------------------------------------- 2.9/41.0 MB 2.5 MB/s eta 0:00:16\n",
      "   --- ------------------------------------ 3.4/41.0 MB 2.5 MB/s eta 0:00:16\n",
      "   ---- ----------------------------------- 4.2/41.0 MB 2.6 MB/s eta 0:00:15\n",
      "   ---- ----------------------------------- 4.7/41.0 MB 2.7 MB/s eta 0:00:14\n",
      "   ----- ---------------------------------- 5.2/41.0 MB 2.6 MB/s eta 0:00:14\n",
      "   ----- ---------------------------------- 5.8/41.0 MB 2.5 MB/s eta 0:00:14\n",
      "   ------ --------------------------------- 6.3/41.0 MB 2.6 MB/s eta 0:00:14\n",
      "   ------ --------------------------------- 6.8/41.0 MB 2.6 MB/s eta 0:00:14\n",
      "   ------- -------------------------------- 7.3/41.0 MB 2.6 MB/s eta 0:00:14\n",
      "   ------- -------------------------------- 7.9/41.0 MB 2.5 MB/s eta 0:00:14\n",
      "   -------- ------------------------------- 8.4/41.0 MB 2.6 MB/s eta 0:00:13\n",
      "   -------- ------------------------------- 8.9/41.0 MB 2.5 MB/s eta 0:00:13\n",
      "   -------- ------------------------------- 9.2/41.0 MB 2.5 MB/s eta 0:00:13\n",
      "   --------- ------------------------------ 10.0/41.0 MB 2.5 MB/s eta 0:00:13\n",
      "   ---------- ----------------------------- 10.5/41.0 MB 2.5 MB/s eta 0:00:13\n",
      "   ---------- ----------------------------- 11.0/41.0 MB 2.5 MB/s eta 0:00:12\n",
      "   ----------- ---------------------------- 11.8/41.0 MB 2.6 MB/s eta 0:00:12\n",
      "   ------------ --------------------------- 12.3/41.0 MB 2.6 MB/s eta 0:00:12\n",
      "   ------------ --------------------------- 12.8/41.0 MB 2.6 MB/s eta 0:00:11\n",
      "   ------------- -------------------------- 13.6/41.0 MB 2.6 MB/s eta 0:00:11\n",
      "   -------------- ------------------------- 14.4/41.0 MB 2.7 MB/s eta 0:00:11\n",
      "   -------------- ------------------------- 15.2/41.0 MB 2.7 MB/s eta 0:00:10\n",
      "   --------------- ------------------------ 16.0/41.0 MB 2.7 MB/s eta 0:00:10\n",
      "   ---------------- ----------------------- 16.8/41.0 MB 2.8 MB/s eta 0:00:09\n",
      "   ----------------- ---------------------- 17.6/41.0 MB 2.8 MB/s eta 0:00:09\n",
      "   ----------------- ---------------------- 18.1/41.0 MB 2.8 MB/s eta 0:00:09\n",
      "   ------------------ --------------------- 18.9/41.0 MB 2.8 MB/s eta 0:00:08\n",
      "   ------------------ --------------------- 19.4/41.0 MB 2.8 MB/s eta 0:00:08\n",
      "   ------------------- -------------------- 19.9/41.0 MB 2.8 MB/s eta 0:00:08\n",
      "   ------------------- -------------------- 20.4/41.0 MB 2.8 MB/s eta 0:00:08\n",
      "   -------------------- ------------------- 21.0/41.0 MB 2.8 MB/s eta 0:00:08\n",
      "   -------------------- ------------------- 21.5/41.0 MB 2.8 MB/s eta 0:00:08\n",
      "   --------------------- ------------------ 22.3/41.0 MB 2.8 MB/s eta 0:00:07\n",
      "   ---------------------- ----------------- 22.8/41.0 MB 2.8 MB/s eta 0:00:07\n",
      "   ---------------------- ----------------- 23.3/41.0 MB 2.8 MB/s eta 0:00:07\n",
      "   ----------------------- ---------------- 24.1/41.0 MB 2.8 MB/s eta 0:00:07\n",
      "   ------------------------ --------------- 24.9/41.0 MB 2.8 MB/s eta 0:00:06\n",
      "   ------------------------ --------------- 25.4/41.0 MB 2.8 MB/s eta 0:00:06\n",
      "   ------------------------- -------------- 26.2/41.0 MB 2.8 MB/s eta 0:00:06\n",
      "   -------------------------- ------------- 27.0/41.0 MB 2.9 MB/s eta 0:00:05\n",
      "   --------------------------- ------------ 27.8/41.0 MB 2.9 MB/s eta 0:00:05\n",
      "   --------------------------- ------------ 28.3/41.0 MB 2.9 MB/s eta 0:00:05\n",
      "   ---------------------------- ----------- 28.8/41.0 MB 2.9 MB/s eta 0:00:05\n",
      "   ---------------------------- ----------- 29.4/41.0 MB 2.9 MB/s eta 0:00:05\n",
      "   ----------------------------- ---------- 29.9/41.0 MB 2.8 MB/s eta 0:00:04\n",
      "   ----------------------------- ---------- 30.7/41.0 MB 2.9 MB/s eta 0:00:04\n",
      "   ------------------------------ --------- 30.9/41.0 MB 2.8 MB/s eta 0:00:04\n",
      "   ------------------------------ --------- 31.2/41.0 MB 2.8 MB/s eta 0:00:04\n",
      "   ------------------------------ --------- 31.5/41.0 MB 2.8 MB/s eta 0:00:04\n",
      "   ------------------------------ --------- 31.7/41.0 MB 2.8 MB/s eta 0:00:04\n",
      "   ------------------------------- -------- 32.2/41.0 MB 2.7 MB/s eta 0:00:04\n",
      "   ------------------------------- -------- 32.8/41.0 MB 2.7 MB/s eta 0:00:04\n",
      "   -------------------------------- ------- 33.3/41.0 MB 2.7 MB/s eta 0:00:03\n",
      "   -------------------------------- ------- 33.6/41.0 MB 2.7 MB/s eta 0:00:03\n",
      "   -------------------------------- ------- 33.6/41.0 MB 2.7 MB/s eta 0:00:03\n",
      "   -------------------------------- ------- 33.6/41.0 MB 2.7 MB/s eta 0:00:03\n",
      "   --------------------------------- ------ 34.3/41.0 MB 2.6 MB/s eta 0:00:03\n",
      "   --------------------------------- ------ 34.3/41.0 MB 2.6 MB/s eta 0:00:03\n",
      "   ---------------------------------- ----- 35.4/41.0 MB 2.6 MB/s eta 0:00:03\n",
      "   ----------------------------------- ---- 35.9/41.0 MB 2.6 MB/s eta 0:00:02\n",
      "   ----------------------------------- ---- 35.9/41.0 MB 2.6 MB/s eta 0:00:02\n",
      "   ----------------------------------- ---- 36.2/41.0 MB 2.6 MB/s eta 0:00:02\n",
      "   ----------------------------------- ---- 36.7/41.0 MB 2.6 MB/s eta 0:00:02\n",
      "   ----------------------------------- ---- 36.7/41.0 MB 2.6 MB/s eta 0:00:02\n",
      "   ----------------------------------- ---- 36.7/41.0 MB 2.6 MB/s eta 0:00:02\n",
      "   ------------------------------------ --- 37.2/41.0 MB 2.5 MB/s eta 0:00:02\n",
      "   ------------------------------------ --- 37.7/41.0 MB 2.5 MB/s eta 0:00:02\n",
      "   ------------------------------------ --- 37.7/41.0 MB 2.5 MB/s eta 0:00:02\n",
      "   ------------------------------------ --- 37.7/41.0 MB 2.5 MB/s eta 0:00:02\n",
      "   ------------------------------------- -- 38.3/41.0 MB 2.4 MB/s eta 0:00:02\n",
      "   ------------------------------------- -- 38.5/41.0 MB 2.4 MB/s eta 0:00:02\n",
      "   -------------------------------------- - 39.1/41.0 MB 2.4 MB/s eta 0:00:01\n",
      "   -------------------------------------- - 39.3/41.0 MB 2.4 MB/s eta 0:00:01\n",
      "   -------------------------------------- - 39.8/41.0 MB 2.4 MB/s eta 0:00:01\n",
      "   ---------------------------------------  40.1/41.0 MB 2.4 MB/s eta 0:00:01\n",
      "   ---------------------------------------  40.4/41.0 MB 2.4 MB/s eta 0:00:01\n",
      "   ---------------------------------------  40.9/41.0 MB 2.4 MB/s eta 0:00:01\n",
      "   ---------------------------------------- 41.0/41.0 MB 2.3 MB/s eta 0:00:00\n",
      "Downloading tifffile-2025.6.11-py3-none-any.whl (230 kB)\n",
      "Installing collected packages: tifffile, scipy, pillow, networkx, lazy-loader, imageio, scikit-image\n",
      "Successfully installed imageio-2.37.0 lazy-loader-0.4 networkx-3.5 pillow-11.2.1 scikit-image-0.25.2 scipy-1.15.3 tifffile-2025.6.11\n"
     ]
    }
   ],
   "source": [
    "%pip install scikit-image"
   ]
  },
  {
   "cell_type": "code",
   "execution_count": 55,
   "id": "4d1fefa6",
   "metadata": {},
   "outputs": [
    {
     "data": {
      "text/plain": [
       "numpy.ndarray"
      ]
     },
     "execution_count": 55,
     "metadata": {},
     "output_type": "execute_result"
    }
   ],
   "source": [
    "from skimage import io\n",
    "photo=io.imread(r'C:\\pythonclass2\\flower.png')\n",
    "type(photo)\n"
   ]
  },
  {
   "cell_type": "code",
   "execution_count": null,
   "id": "6b8c1212",
   "metadata": {},
   "outputs": [],
   "source": [
    "%pip install matplotlib"
   ]
  },
  {
   "cell_type": "code",
   "execution_count": null,
   "id": "48f91fe9",
   "metadata": {},
   "outputs": [],
   "source": [
    "import matplotlib.pyplot as plt\n",
    "plt.imshow(photo)\n",
    "photo.shape"
   ]
  }
 ],
 "metadata": {
  "kernelspec": {
   "display_name": "Python 3",
   "language": "python",
   "name": "python3"
  },
  "language_info": {
   "codemirror_mode": {
    "name": "ipython",
    "version": 3
   },
   "file_extension": ".py",
   "mimetype": "text/x-python",
   "name": "python",
   "nbconvert_exporter": "python",
   "pygments_lexer": "ipython3",
   "version": "3.13.1"
  }
 },
 "nbformat": 4,
 "nbformat_minor": 5
}
