{
 "cells": [
  {
   "cell_type": "code",
   "execution_count": 1,
   "id": "08572ed4",
   "metadata": {},
   "outputs": [],
   "source": [
    "import numpy as np "
   ]
  },
  {
   "cell_type": "code",
   "execution_count": 7,
   "id": "9a2fafd0",
   "metadata": {},
   "outputs": [
    {
     "name": "stdout",
     "output_type": "stream",
     "text": [
      "[0. 0. 0. 0. 0. 0. 0. 0. 0. 0.]\n"
     ]
    },
    {
     "data": {
      "text/plain": [
       "numpy.float64"
      ]
     },
     "execution_count": 7,
     "metadata": {},
     "output_type": "execute_result"
    }
   ],
   "source": [
    "a=np.zeros(10)\n",
    "print(a)\n",
    "type(a[0])"
   ]
  },
  {
   "cell_type": "code",
   "execution_count": 12,
   "id": "6d35a690",
   "metadata": {},
   "outputs": [
    {
     "data": {
      "text/plain": [
       "array([[1, 2, 3],\n",
       "       [4, 5, 6],\n",
       "       [7, 8, 9]])"
      ]
     },
     "execution_count": 12,
     "metadata": {},
     "output_type": "execute_result"
    }
   ],
   "source": [
    "arr1 =np.array([[1,2,3],\n",
    "               [4,5,6]])\n",
    "arr2=np.array([[7,8,9]])\n",
    "z=np.concatenate((arr1,arr2,),axis=0)\n",
    "z"
   ]
  },
  {
   "cell_type": "code",
   "execution_count": null,
   "id": "24f38920",
   "metadata": {},
   "outputs": [
    {
     "data": {
      "text/plain": [
       "array([[1, 2, 3, 7],\n",
       "       [4, 5, 6, 8]])"
      ]
     },
     "execution_count": 14,
     "metadata": {},
     "output_type": "execute_result"
    }
   ],
   "source": [
    "arr2=np.array([[7],\n",
    "              [8]])\n",
    "z=np.concatenate((arr1,arr2),axis=1)\n",
    "z\n"
   ]
  },
  {
   "cell_type": "code",
   "execution_count": 15,
   "id": "6c813249",
   "metadata": {},
   "outputs": [
    {
     "ename": "ValueError",
     "evalue": "zero-dimensional arrays cannot be concatenated",
     "output_type": "error",
     "traceback": [
      "\u001b[31m---------------------------------------------------------------------------\u001b[39m",
      "\u001b[31mValueError\u001b[39m                                Traceback (most recent call last)",
      "\u001b[36mCell\u001b[39m\u001b[36m \u001b[39m\u001b[32mIn[15]\u001b[39m\u001b[32m, line 2\u001b[39m\n\u001b[32m      1\u001b[39m a_list = [\u001b[32m1\u001b[39m,\u001b[32m2\u001b[39m,\u001b[32m3\u001b[39m,\u001b[32m4\u001b[39m,\u001b[32m5\u001b[39m,\u001b[32m6\u001b[39m,\u001b[32m7\u001b[39m,\u001b[32m8\u001b[39m,\u001b[32m9\u001b[39m]\n\u001b[32m----> \u001b[39m\u001b[32m2\u001b[39m z=\u001b[43mnp\u001b[49m\u001b[43m.\u001b[49m\u001b[43mconcatenate\u001b[49m\u001b[43m(\u001b[49m\u001b[43ma_list\u001b[49m\u001b[43m)\u001b[49m\n\u001b[32m      3\u001b[39m \u001b[38;5;28mprint\u001b[39m(z)\n",
      "\u001b[31mValueError\u001b[39m: zero-dimensional arrays cannot be concatenated"
     ]
    }
   ],
   "source": [
    "a_list = [1,2,3,4,5,6,7,8,9]\n",
    "z=np.concatenate(a_list)\n",
    "print(z)"
   ]
  },
  {
   "cell_type": "code",
   "execution_count": 16,
   "id": "47aec4a2",
   "metadata": {},
   "outputs": [
    {
     "name": "stdout",
     "output_type": "stream",
     "text": [
      "[ 1  1  2  3  3  3  3  5  5  7  7 10 12 12 14 15 16 17 18 18 18 18 19 20\n",
      " 22 22 22 23 28 29 29 30 31 34 34 36 37 37 38 40 41 43 44 46 47 48 49 50\n",
      " 50 50]\n"
     ]
    }
   ],
   "source": [
    "z=np.random.randint(1,51,size=50)\n",
    "print(np.sort(z))"
   ]
  },
  {
   "cell_type": "code",
   "execution_count": 17,
   "id": "c2c73e50",
   "metadata": {},
   "outputs": [
    {
     "data": {
      "text/plain": [
       "array([ 1, 50, 44, 20, 19, 17, 18,  3,  5, 43, 22,  1, 37, 34,  3,  3, 18,\n",
       "       50,  5, 18, 34, 12, 31,  2, 15,  3, 41, 40, 22, 46, 18, 29, 23, 10,\n",
       "       37, 50,  7, 30, 22, 36, 38, 14, 48, 12, 16, 49, 29, 47,  7, 28],\n",
       "      dtype=int32)"
      ]
     },
     "execution_count": 17,
     "metadata": {},
     "output_type": "execute_result"
    }
   ],
   "source": [
    "z[0:2]\n",
    "z[::-1]"
   ]
  },
  {
   "cell_type": "code",
   "execution_count": 19,
   "id": "3087084b",
   "metadata": {},
   "outputs": [
    {
     "name": "stdout",
     "output_type": "stream",
     "text": [
      "5\n"
     ]
    }
   ],
   "source": [
    "a=np.array([[1,2,3],\n",
    "           [4,5,6]])\n",
    "print(a[1,1])"
   ]
  },
  {
   "cell_type": "code",
   "execution_count": 31,
   "id": "b5eff3a5",
   "metadata": {},
   "outputs": [
    {
     "data": {
      "text/plain": [
       "1"
      ]
     },
     "execution_count": 31,
     "metadata": {},
     "output_type": "execute_result"
    }
   ],
   "source": [
    "a.ndim"
   ]
  },
  {
   "cell_type": "code",
   "execution_count": 32,
   "id": "8577e4d3",
   "metadata": {},
   "outputs": [
    {
     "ename": "ValueError",
     "evalue": "all the input arrays must have same number of dimensions, but the array at index 0 has 1 dimension(s) and the array at index 1 has 2 dimension(s)",
     "output_type": "error",
     "traceback": [
      "\u001b[31m---------------------------------------------------------------------------\u001b[39m",
      "\u001b[31mValueError\u001b[39m                                Traceback (most recent call last)",
      "\u001b[36mCell\u001b[39m\u001b[36m \u001b[39m\u001b[32mIn[32]\u001b[39m\u001b[32m, line 1\u001b[39m\n\u001b[32m----> \u001b[39m\u001b[32m1\u001b[39m a=\u001b[43mnp\u001b[49m\u001b[43m.\u001b[49m\u001b[43mappend\u001b[49m\u001b[43m(\u001b[49m\u001b[43ma\u001b[49m\u001b[43m,\u001b[49m\u001b[43m[\u001b[49m\u001b[43m[\u001b[49m\u001b[32;43m7\u001b[39;49m\u001b[43m,\u001b[49m\u001b[32;43m8\u001b[39;49m\u001b[43m,\u001b[49m\u001b[32;43m9\u001b[39;49m\u001b[43m]\u001b[49m\u001b[43m]\u001b[49m\u001b[43m,\u001b[49m\u001b[43maxis\u001b[49m\u001b[43m=\u001b[49m\u001b[32;43m0\u001b[39;49m\u001b[43m)\u001b[49m\n\u001b[32m      2\u001b[39m \u001b[38;5;28mprint\u001b[39m (a)\n",
      "\u001b[36mFile \u001b[39m\u001b[32mc:\\Python313\\Lib\\site-packages\\numpy\\lib\\_function_base_impl.py:5726\u001b[39m, in \u001b[36mappend\u001b[39m\u001b[34m(arr, values, axis)\u001b[39m\n\u001b[32m   5724\u001b[39m     values = ravel(values)\n\u001b[32m   5725\u001b[39m     axis = arr.ndim - \u001b[32m1\u001b[39m\n\u001b[32m-> \u001b[39m\u001b[32m5726\u001b[39m \u001b[38;5;28;01mreturn\u001b[39;00m \u001b[43mconcatenate\u001b[49m\u001b[43m(\u001b[49m\u001b[43m(\u001b[49m\u001b[43marr\u001b[49m\u001b[43m,\u001b[49m\u001b[43m \u001b[49m\u001b[43mvalues\u001b[49m\u001b[43m)\u001b[49m\u001b[43m,\u001b[49m\u001b[43m \u001b[49m\u001b[43maxis\u001b[49m\u001b[43m=\u001b[49m\u001b[43maxis\u001b[49m\u001b[43m)\u001b[49m\n",
      "\u001b[31mValueError\u001b[39m: all the input arrays must have same number of dimensions, but the array at index 0 has 1 dimension(s) and the array at index 1 has 2 dimension(s)"
     ]
    }
   ],
   "source": [
    "a=np.append(a,[[7,8,9]],axis=0)\n",
    "print (a)"
   ]
  },
  {
   "cell_type": "code",
   "execution_count": 23,
   "id": "3da89ee8",
   "metadata": {},
   "outputs": [
    {
     "data": {
      "text/plain": [
       "2"
      ]
     },
     "execution_count": 23,
     "metadata": {},
     "output_type": "execute_result"
    }
   ],
   "source": [
    "a.ndim"
   ]
  },
  {
   "cell_type": "code",
   "execution_count": 25,
   "id": "da66c294",
   "metadata": {},
   "outputs": [
    {
     "name": "stdout",
     "output_type": "stream",
     "text": [
      "[1 2 3 4 5 6 7 8 9 7 8 9 7 8 9 7 8 9]\n"
     ]
    }
   ],
   "source": [
    "a=np.append(a,[[7,8,9]])\n",
    "print(a)"
   ]
  },
  {
   "cell_type": "code",
   "execution_count": 41,
   "id": "8f1525b6",
   "metadata": {},
   "outputs": [
    {
     "name": "stdout",
     "output_type": "stream",
     "text": [
      "[[1 2 3]\n",
      " [7 8 9]\n",
      " [4 5 6]]\n"
     ]
    }
   ],
   "source": [
    "a=np.array([[1,2,3],\n",
    "           [4,5,6]])\n",
    "\n",
    "a=np.insert(a,1,[7,8,9],axis=0)\n",
    "print(a)"
   ]
  },
  {
   "cell_type": "code",
   "execution_count": 42,
   "id": "ddce8139",
   "metadata": {},
   "outputs": [
    {
     "name": "stdout",
     "output_type": "stream",
     "text": [
      "[[1 2 3]]\n"
     ]
    }
   ],
   "source": [
    "a=np.array([[1,2,3],\n",
    "           [4,5,6]])\n",
    "a=np.delete(a,1,0)\n",
    "print(a)"
   ]
  },
  {
   "cell_type": "code",
   "execution_count": 51,
   "id": "a5548dcd",
   "metadata": {},
   "outputs": [
    {
     "name": "stdout",
     "output_type": "stream",
     "text": [
      "[[1 3]\n",
      " [4 6]]\n"
     ]
    }
   ],
   "source": [
    "a=np.array([[1,2,3],\n",
    "           [4,5,6]])\n",
    "\n",
    "a=np.delete(a,1,1)\n",
    "print(a)"
   ]
  },
  {
   "cell_type": "code",
   "execution_count": 52,
   "id": "d3745f92",
   "metadata": {},
   "outputs": [
    {
     "name": "stdout",
     "output_type": "stream",
     "text": [
      "Collecting scikit-image\n",
      "  Downloading scikit_image-0.25.2-cp313-cp313-win_amd64.whl.metadata (14 kB)\n",
      "Requirement already satisfied: numpy>=1.24 in c:\\python313\\lib\\site-packages (from scikit-image) (2.3.0)\n",
      "Collecting scipy>=1.11.4 (from scikit-image)\n",
      "  Downloading scipy-1.15.3-cp313-cp313-win_amd64.whl.metadata (60 kB)\n",
      "Collecting networkx>=3.0 (from scikit-image)\n",
      "  Downloading networkx-3.5-py3-none-any.whl.metadata (6.3 kB)\n",
      "Collecting pillow>=10.1 (from scikit-image)\n",
      "  Downloading pillow-11.2.1-cp313-cp313-win_amd64.whl.metadata (9.1 kB)\n",
      "Collecting imageio!=2.35.0,>=2.33 (from scikit-image)\n",
      "  Downloading imageio-2.37.0-py3-none-any.whl.metadata (5.2 kB)\n",
      "Collecting tifffile>=2022.8.12 (from scikit-image)\n",
      "  Downloading tifffile-2025.6.11-py3-none-any.whl.metadata (32 kB)\n",
      "Requirement already satisfied: packaging>=21 in c:\\users\\hp\\appdata\\roaming\\python\\python313\\site-packages (from scikit-image) (25.0)\n",
      "Collecting lazy-loader>=0.4 (from scikit-image)\n",
      "  Downloading lazy_loader-0.4-py3-none-any.whl.metadata (7.6 kB)\n",
      "Downloading scikit_image-0.25.2-cp313-cp313-win_amd64.whl (12.9 MB)\n",
      "   ---------------------------------------- 0.0/12.9 MB ? eta -:--:--\n",
      "   - -------------------------------------- 0.5/12.9 MB 5.7 MB/s eta 0:00:03\n",
      "   ------ --------------------------------- 2.1/12.9 MB 6.6 MB/s eta 0:00:02\n",
      "   ------------- -------------------------- 4.2/12.9 MB 7.9 MB/s eta 0:00:02\n",
      "   ----------------- ---------------------- 5.8/12.9 MB 7.7 MB/s eta 0:00:01\n",
      "   --------------------- ------------------ 7.1/12.9 MB 7.5 MB/s eta 0:00:01\n",
      "   -------------------------- ------------- 8.4/12.9 MB 7.3 MB/s eta 0:00:01\n",
      "   ------------------------------ --------- 10.0/12.9 MB 7.3 MB/s eta 0:00:01\n",
      "   ------------------------------------ --- 11.8/12.9 MB 7.4 MB/s eta 0:00:01\n",
      "   ---------------------------------------- 12.9/12.9 MB 7.4 MB/s eta 0:00:00\n",
      "Downloading imageio-2.37.0-py3-none-any.whl (315 kB)\n",
      "Downloading lazy_loader-0.4-py3-none-any.whl (12 kB)\n",
      "Downloading networkx-3.5-py3-none-any.whl (2.0 MB)\n",
      "   ---------------------------------------- 0.0/2.0 MB ? eta -:--:--\n",
      "   ------------------------------------ --- 1.8/2.0 MB 13.0 MB/s eta 0:00:01\n",
      "   ---------------------------------------- 2.0/2.0 MB 8.7 MB/s eta 0:00:00\n",
      "Downloading pillow-11.2.1-cp313-cp313-win_amd64.whl (2.7 MB)\n",
      "   ---------------------------------------- 0.0/2.7 MB ? eta -:--:--\n",
      "   ------------------------------- -------- 2.1/2.7 MB 9.8 MB/s eta 0:00:01\n",
      "   ---------------------------------------- 2.7/2.7 MB 9.6 MB/s eta 0:00:00\n",
      "Downloading scipy-1.15.3-cp313-cp313-win_amd64.whl (41.0 MB)\n",
      "   ---------------------------------------- 0.0/41.0 MB ? eta -:--:--\n",
      "   - -------------------------------------- 1.3/41.0 MB 6.5 MB/s eta 0:00:07\n",
      "   --- ------------------------------------ 3.1/41.0 MB 8.2 MB/s eta 0:00:05\n",
      "   ---- ----------------------------------- 5.0/41.0 MB 8.0 MB/s eta 0:00:05\n",
      "   ------ --------------------------------- 7.1/41.0 MB 8.4 MB/s eta 0:00:05\n",
      "   -------- ------------------------------- 8.9/41.0 MB 8.6 MB/s eta 0:00:04\n",
      "   ---------- ----------------------------- 10.7/41.0 MB 8.8 MB/s eta 0:00:04\n",
      "   ----------- ---------------------------- 11.8/41.0 MB 8.1 MB/s eta 0:00:04\n",
      "   ------------- -------------------------- 13.4/41.0 MB 8.1 MB/s eta 0:00:04\n",
      "   -------------- ------------------------- 14.7/41.0 MB 7.9 MB/s eta 0:00:04\n",
      "   --------------- ------------------------ 16.0/41.0 MB 7.7 MB/s eta 0:00:04\n",
      "   ----------------- ---------------------- 18.1/41.0 MB 7.9 MB/s eta 0:00:03\n",
      "   ------------------- -------------------- 20.2/41.0 MB 8.2 MB/s eta 0:00:03\n",
      "   --------------------- ------------------ 22.3/41.0 MB 8.2 MB/s eta 0:00:03\n",
      "   ---------------------- ----------------- 23.3/41.0 MB 8.1 MB/s eta 0:00:03\n",
      "   ------------------------ --------------- 25.2/41.0 MB 8.1 MB/s eta 0:00:02\n",
      "   ------------------------- -------------- 26.2/41.0 MB 8.0 MB/s eta 0:00:02\n",
      "   -------------------------- ------------- 27.5/41.0 MB 7.8 MB/s eta 0:00:02\n",
      "   ---------------------------- ----------- 28.8/41.0 MB 7.7 MB/s eta 0:00:02\n",
      "   ----------------------------- ---------- 30.4/41.0 MB 7.7 MB/s eta 0:00:02\n",
      "   ------------------------------- -------- 32.2/41.0 MB 7.8 MB/s eta 0:00:02\n",
      "   -------------------------------- ------- 33.6/41.0 MB 7.7 MB/s eta 0:00:01\n",
      "   ---------------------------------- ----- 35.1/41.0 MB 7.7 MB/s eta 0:00:01\n",
      "   ----------------------------------- ---- 36.4/41.0 MB 7.6 MB/s eta 0:00:01\n",
      "   ------------------------------------ --- 37.5/41.0 MB 7.5 MB/s eta 0:00:01\n",
      "   -------------------------------------- - 39.1/41.0 MB 7.5 MB/s eta 0:00:01\n",
      "   ---------------------------------------  40.4/41.0 MB 7.5 MB/s eta 0:00:01\n",
      "   ---------------------------------------  40.9/41.0 MB 7.5 MB/s eta 0:00:01\n",
      "   ---------------------------------------- 41.0/41.0 MB 7.3 MB/s eta 0:00:00\n",
      "Downloading tifffile-2025.6.11-py3-none-any.whl (230 kB)\n",
      "Installing collected packages: tifffile, scipy, pillow, networkx, lazy-loader, imageio, scikit-image\n",
      "Successfully installed imageio-2.37.0 lazy-loader-0.4 networkx-3.5 pillow-11.2.1 scikit-image-0.25.2 scipy-1.15.3 tifffile-2025.6.11\n",
      "Note: you may need to restart the kernel to use updated packages.\n"
     ]
    },
    {
     "name": "stderr",
     "output_type": "stream",
     "text": [
      "\n",
      "[notice] A new release of pip is available: 24.3.1 -> 25.1.1\n",
      "[notice] To update, run: python.exe -m pip install --upgrade pip\n"
     ]
    }
   ],
   "source": [
    "%pip install scikit-image "
   ]
  },
  {
   "cell_type": "code",
   "execution_count": 2,
   "id": "10340f82",
   "metadata": {},
   "outputs": [
    {
     "data": {
      "text/plain": [
       "numpy.ndarray"
      ]
     },
     "execution_count": 2,
     "metadata": {},
     "output_type": "execute_result"
    }
   ],
   "source": [
    "from  skimage import io\n",
    "photo = io.imread(r'C:\\python02\\kk1.jpeg')\n",
    "type(photo)"
   ]
  },
  {
   "cell_type": "code",
   "execution_count": null,
   "id": "4974dbeb",
   "metadata": {},
   "outputs": [
    {
     "name": "stdout",
     "output_type": "stream",
     "text": [
      "Note: you may need to restart the kernel to use updated packages.\n"
     ]
    },
    {
     "name": "stderr",
     "output_type": "stream",
     "text": [
      "ERROR: Could not find a version that satisfies the requirement matplotib (from versions: none)\n",
      "\n",
      "[notice] A new release of pip is available: 24.3.1 -> 25.1.1\n",
      "[notice] To update, run: python.exe -m pip install --upgrade pip\n",
      "ERROR: No matching distribution found for matplotib\n"
     ]
    }
   ],
   "source": [
    "%pip install matplotib"
   ]
  },
  {
   "cell_type": "code",
   "execution_count": 1,
   "id": "f8e4ede2",
   "metadata": {},
   "outputs": [
    {
     "name": "stdout",
     "output_type": "stream",
     "text": [
      "Note: you may need to restart the kernel to use updated packages.\n"
     ]
    },
    {
     "name": "stderr",
     "output_type": "stream",
     "text": [
      "ERROR: Could not find a version that satisfies the requirement matplotib (from versions: none)\n",
      "\n",
      "[notice] A new release of pip is available: 24.3.1 -> 25.1.1\n",
      "[notice] To update, run: python.exe -m pip install --upgrade pip\n",
      "ERROR: No matching distribution found for matplotib\n"
     ]
    }
   ],
   "source": [
    "%pip install matplotib"
   ]
  },
  {
   "cell_type": "code",
   "execution_count": 3,
   "id": "bc58a64e",
   "metadata": {},
   "outputs": [],
   "source": [
    "import matplotlib.pyplot as plt"
   ]
  },
  {
   "cell_type": "code",
   "execution_count": 4,
   "id": "01109c20",
   "metadata": {},
   "outputs": [
    {
     "name": "stdout",
     "output_type": "stream",
     "text": [
      "17971614\n",
      "0\n",
      "118.93067301965456\n",
      "102.68220484155333\n",
      "10543.63519112272\n",
      "0\n",
      "255\n",
      "126\n",
      "36605\n"
     ]
    }
   ],
   "source": [
    "print(np.sum(photo))\n",
    "print(np.prod(photo))\n",
    "print(np.mean(photo))\n",
    "print(np.std(photo))\n",
    "print(np.var(photo))\n",
    "print(np.min(photo))\n",
    "print(np.max(photo))\n",
    "print(np.argmin(photo))\n",
    "print(np.argmax(photo))\n"
   ]
  },
  {
   "cell_type": "code",
   "execution_count": 6,
   "id": "0db12ce4",
   "metadata": {},
   "outputs": [
    {
     "data": {
      "text/plain": [
       "array([ True,  True, False, False, False])"
      ]
     },
     "execution_count": 6,
     "metadata": {},
     "output_type": "execute_result"
    }
   ],
   "source": [
    "z=np.array([1,2,3,4,5])\n",
    "z<3\n"
   ]
  },
  {
   "cell_type": "code",
   "execution_count": 12,
   "id": "37fec6ba",
   "metadata": {},
   "outputs": [
    {
     "data": {
      "text/plain": [
       "array([1, 2])"
      ]
     },
     "execution_count": 12,
     "metadata": {},
     "output_type": "execute_result"
    }
   ],
   "source": [
    "z[z<3]"
   ]
  },
  {
   "cell_type": "code",
   "execution_count": 14,
   "id": "5994e2aa",
   "metadata": {},
   "outputs": [
    {
     "name": "stdout",
     "output_type": "stream",
     "text": [
      "[  1   8  27  64 125]\n"
     ]
    }
   ],
   "source": [
    "arr1=np.array([1,2,3,4,5])\n",
    "arr2=np.array([6,7,8,9,10])\n",
    "arr1+arr2\n",
    "z=np.power(arr1,3)\n",
    "print(z)"
   ]
  },
  {
   "cell_type": "code",
   "execution_count": null,
   "id": "9a79e11c",
   "metadata": {},
   "outputs": [
    {
     "name": "stdout",
     "output_type": "stream",
     "text": [
      "[ 31  38  57  94 155]\n"
     ]
    }
   ],
   "source": [
    "z=z+30\n",
    "print(z)"
   ]
  },
  {
   "cell_type": "code",
   "execution_count": 16,
   "id": "aa2f9fbf",
   "metadata": {},
   "outputs": [
    {
     "name": "stdout",
     "output_type": "stream",
     "text": [
      "[ 31  38  57  94 155]\n"
     ]
    }
   ],
   "source": [
    "arr1@arr2\n",
    "print(z)"
   ]
  },
  {
   "cell_type": "code",
   "execution_count": 33,
   "id": "af21a259",
   "metadata": {},
   "outputs": [
    {
     "data": {
      "text/plain": [
       "array([[ 1,  2],\n",
       "       [ 3,  4],\n",
       "       [ 5,  6],\n",
       "       [ 7,  8],\n",
       "       [ 9, 10],\n",
       "       [11, 12]])"
      ]
     },
     "execution_count": 33,
     "metadata": {},
     "output_type": "execute_result"
    }
   ],
   "source": [
    "np.arange(1,13).reshape(6,2)\n"
   ]
  },
  {
   "cell_type": "code",
   "execution_count": 24,
   "id": "e596a732",
   "metadata": {},
   "outputs": [
    {
     "name": "stdout",
     "output_type": "stream",
     "text": [
      "[[ 0  1  2  3  4  5]\n",
      " [ 6  7  8  9 10 11]]\n"
     ]
    },
    {
     "data": {
      "text/plain": [
       "1"
      ]
     },
     "execution_count": 24,
     "metadata": {},
     "output_type": "execute_result"
    }
   ],
   "source": [
    "a1=np.arange(10)\n",
    "a2=np.arange(12).reshape(2,6)\n",
    "print(a2)\n",
    "a3=np.arange(8).reshape(2,2,2)\n",
    "np.ndim(a1)"
   ]
  },
  {
   "cell_type": "code",
   "execution_count": 31,
   "id": "5049a731",
   "metadata": {},
   "outputs": [
    {
     "name": "stdout",
     "output_type": "stream",
     "text": [
      "<class 'float'>\n"
     ]
    }
   ],
   "source": [
    "arr=np.array([1,2,3]).dtype=float\n",
    "print(arr)"
   ]
  },
  {
   "cell_type": "code",
   "execution_count": 41,
   "id": "ed41cc5c",
   "metadata": {},
   "outputs": [
    {
     "ename": "TypeError",
     "evalue": "Field elements must be 2- or 3-tuples, got '[7, 8, 9]'",
     "output_type": "error",
     "traceback": [
      "\u001b[31m---------------------------------------------------------------------------\u001b[39m",
      "\u001b[31mTypeError\u001b[39m                                 Traceback (most recent call last)",
      "\u001b[36mCell\u001b[39m\u001b[36m \u001b[39m\u001b[32mIn[41]\u001b[39m\u001b[32m, line 1\u001b[39m\n\u001b[32m----> \u001b[39m\u001b[32m1\u001b[39m arr3=\u001b[43mnp\u001b[49m\u001b[43m.\u001b[49m\u001b[43marray\u001b[49m\u001b[43m(\u001b[49m\u001b[43m[\u001b[49m\u001b[43m[\u001b[49m\u001b[32;43m1\u001b[39;49m\u001b[43m,\u001b[49m\u001b[32;43m2\u001b[39;49m\u001b[43m,\u001b[49m\u001b[32;43m3\u001b[39;49m\u001b[43m]\u001b[49m\u001b[43m,\u001b[49m\u001b[43m[\u001b[49m\u001b[32;43m4\u001b[39;49m\u001b[43m,\u001b[49m\u001b[32;43m5\u001b[39;49m\u001b[43m,\u001b[49m\u001b[32;43m6\u001b[39;49m\u001b[43m]\u001b[49m\u001b[43m]\u001b[49m\u001b[43m,\u001b[49m\u001b[43m[\u001b[49m\u001b[43m[\u001b[49m\u001b[32;43m7\u001b[39;49m\u001b[43m,\u001b[49m\u001b[32;43m8\u001b[39;49m\u001b[43m,\u001b[49m\u001b[32;43m9\u001b[39;49m\u001b[43m]\u001b[49m\u001b[43m,\u001b[49m\u001b[43m[\u001b[49m\u001b[32;43m10\u001b[39;49m\u001b[43m,\u001b[49m\u001b[32;43m11\u001b[39;49m\u001b[43m,\u001b[49m\u001b[32;43m12\u001b[39;49m\u001b[43m]\u001b[49m\u001b[43m]\u001b[49m\u001b[43m)\u001b[49m\n\u001b[32m      2\u001b[39m \u001b[38;5;28mprint\u001b[39m(arr3)\n",
      "\u001b[31mTypeError\u001b[39m: Field elements must be 2- or 3-tuples, got '[7, 8, 9]'"
     ]
    }
   ],
   "source": [
    "arr3=np.array([[1,2,3],[4,5,6]],[[7,8,9],[10,11,12]])\n",
    "print(arr3)\n"
   ]
  },
  {
   "cell_type": "code",
   "execution_count": 40,
   "id": "aeddfd99",
   "metadata": {},
   "outputs": [
    {
     "name": "stdout",
     "output_type": "stream",
     "text": [
      "[[[0 0 0 0]\n",
      "  [0 0 0 0]\n",
      "  [0 0 0 0]]\n",
      "\n",
      " [[0 0 0 0]\n",
      "  [0 0 0 0]\n",
      "  [0 0 0 0]]]\n"
     ]
    }
   ],
   "source": [
    "a=np.full([2,3,4],0)\n",
    "print(a)"
   ]
  },
  {
   "cell_type": "code",
   "execution_count": null,
   "id": "4b5537ff",
   "metadata": {},
   "outputs": [],
   "source": []
  },
  {
   "cell_type": "code",
   "execution_count": null,
   "id": "2281cd3d",
   "metadata": {},
   "outputs": [],
   "source": []
  },
  {
   "cell_type": "code",
   "execution_count": 44,
   "id": "26fd9afa",
   "metadata": {},
   "outputs": [
    {
     "name": "stdout",
     "output_type": "stream",
     "text": [
      "[[1 2 3]\n",
      " [4 5 6]]\n"
     ]
    }
   ],
   "source": [
    "matrix = np.array([[1,2,3],\n",
    "                  [4,5,6]])\n",
    "print(matrix)"
   ]
  },
  {
   "cell_type": "code",
   "execution_count": 47,
   "id": "ecb15c38",
   "metadata": {},
   "outputs": [
    {
     "name": "stdout",
     "output_type": "stream",
     "text": [
      "[[11 22 33]\n",
      " [14 25 36]]\n"
     ]
    }
   ],
   "source": [
    "broadcasting=matrix+np.array([10,20,30])\n",
    "print(broadcasting)"
   ]
  },
  {
   "cell_type": "code",
   "execution_count": 49,
   "id": "aa622bb0",
   "metadata": {},
   "outputs": [
    {
     "data": {
      "text/plain": [
       "1"
      ]
     },
     "execution_count": 49,
     "metadata": {},
     "output_type": "execute_result"
    }
   ],
   "source": [
    "np.ndim([10,20,30])\n"
   ]
  },
  {
   "cell_type": "code",
   "execution_count": 50,
   "id": "1845b6d3",
   "metadata": {},
   "outputs": [
    {
     "name": "stdout",
     "output_type": "stream",
     "text": [
      "[[ 3  6  9]\n",
      " [12 15 18]]\n"
     ]
    }
   ],
   "source": [
    "broadcasting_column=matrix*3\n",
    "print(broadcasting_column)"
   ]
  },
  {
   "cell_type": "markdown",
   "id": "44a562c9",
   "metadata": {},
   "source": [
    "matrix1=np.array([[1,2,3],[4,5,6]])\n",
    "matrix2=np.array([[7,8,9],[10,11,12]])\n"
   ]
  },
  {
   "cell_type": "code",
   "execution_count": null,
   "id": "4edd3c6f",
   "metadata": {},
   "outputs": [],
   "source": []
  },
  {
   "cell_type": "code",
   "execution_count": 63,
   "id": "6b2ee5f8",
   "metadata": {},
   "outputs": [
    {
     "name": "stdout",
     "output_type": "stream",
     "text": [
      "-2.9999999999999996\n",
      "[[-1.66666667  0.66666667]\n",
      " [ 1.33333333 -0.33333333]]\n"
     ]
    }
   ],
   "source": [
    "matrix1=np.array([[1,2],[4,5]])\n",
    "matrix2=np.array([[6,7],[8,9]])\n",
    "\n",
    "\n",
    "matrix_determinant=np.linalg.det(matrix1)\n",
    "matrix_inverse=np.linalg.inv(matrix1)\n",
    "print(matrix_determinant)\n",
    "print(matrix_inverse)"
   ]
  },
  {
   "cell_type": "code",
   "execution_count": 62,
   "id": "13f2277e",
   "metadata": {},
   "outputs": [
    {
     "name": "stdout",
     "output_type": "stream",
     "text": [
      "[[ 1  2  3  4  5  6]\n",
      " [ 7  8  9 10 11 12]\n",
      " [13 14 15 16 17 18]\n",
      " [19 20 21 22 23 24]]\n"
     ]
    }
   ],
   "source": [
    "a=np.array([[1,2,3,4,5,6],\n",
    "           [7,8,9,10,11,12],\n",
    "           [13,14,15,16,17,18],\n",
    "            [19,20,21,22,23,24]])\n",
    "np.save(\"myarray.npy\",a)\n",
    "a=np.load(\"myarray.npy\")\n",
    "print(a)"
   ]
  },
  {
   "cell_type": "code",
   "execution_count": null,
   "id": "8c29bd82",
   "metadata": {},
   "outputs": [],
   "source": [
    "{\"cod\":401, \"message\": \"Invalid API key. Please see https://openweathermap.org/faq#error401 for more info.\"}"
   ]
  },
  {
   "cell_type": "code",
   "execution_count": null,
   "id": "057b2551",
   "metadata": {},
   "outputs": [],
   "source": [
    "ca6e44e4c5a4960eb4eaf12acba317f6"
   ]
  },
  {
   "cell_type": "code",
   "execution_count": 3,
   "id": "e2e2c4a6",
   "metadata": {},
   "outputs": [
    {
     "name": "stdout",
     "output_type": "stream",
     "text": [
      "Requirement already satisfied: requests in c:\\python313\\lib\\site-packages (2.32.4)\n",
      "Requirement already satisfied: charset_normalizer<4,>=2 in c:\\python313\\lib\\site-packages (from requests) (3.4.2)\n",
      "Requirement already satisfied: idna<4,>=2.5 in c:\\python313\\lib\\site-packages (from requests) (3.10)\n",
      "Requirement already satisfied: urllib3<3,>=1.21.1 in c:\\python313\\lib\\site-packages (from requests) (2.5.0)\n",
      "Requirement already satisfied: certifi>=2017.4.17 in c:\\python313\\lib\\site-packages (from requests) (2025.6.15)\n",
      "Note: you may need to restart the kernel to use updated packages.\n"
     ]
    },
    {
     "name": "stderr",
     "output_type": "stream",
     "text": [
      "\n",
      "[notice] A new release of pip is available: 24.3.1 -> 25.1.1\n",
      "[notice] To update, run: python.exe -m pip install --upgrade pip\n"
     ]
    }
   ],
   "source": [
    "%pip install requests "
   ]
  },
  {
   "cell_type": "code",
   "execution_count": 4,
   "id": "560360c7",
   "metadata": {},
   "outputs": [
    {
     "name": "stdout",
     "output_type": "stream",
     "text": [
      "\n",
      "---Weather Information---\n",
      "error Occured:  name 'requests' is not defined\n",
      "\n",
      "---Weather Information---\n",
      "error Occured:  name 'requests' is not defined\n",
      "\n",
      "---Weather Information---\n"
     ]
    }
   ],
   "source": [
    "API_KEY = \"06b8db9a7daa0a22d9a21056d4cbcb60\"\n",
    "BASE_URL = \"https://api.openweathermap.org/data/2.5/weather\"\n",
    "\n",
    "## Get Weather Data\n",
    "def get_weather(city):\n",
    "    try:\n",
    "        url = f\"{BASE_URL}?q={city}&appid={API_KEY}&units=metric\"\n",
    "        response = requests.get(url)\n",
    "        data= response.json()\n",
    "        if response.status_code == 200:\n",
    "            data=response.json()\n",
    "            weather = {\n",
    "                \"City\": data[\"name\"],\n",
    "                \"Temperature\": f\"{data['main']['temp']}C\",\n",
    "                \"Weather\": data[\"weather\"][0]['description'].title(),\n",
    "                \"Humidity\": f\"{data['main']['humidity']}%\", \n",
    "                \"Wind Speed\": f\"{data['wind']['speed']}m/s\"\n",
    "            }\n",
    "            return weather\n",
    "        elif response.status_code == 404:\n",
    "            print(\"City not found\")\n",
    "        else:\n",
    "            print(\"An error occured. Status Code: \", response.status.code)\n",
    "    except Exception as e:\n",
    "        print(\"error Occured: \", e)\n",
    "    return None\n",
    "\n",
    "## Display the weather information\n",
    "def display_weather(weather):\n",
    "    print(\"\\n---Weather Information---\")\n",
    "    for key,value in weather.items():\n",
    "        print(f\"{key}: {value}\")\n",
    "\n",
    "## Main Program Loop\n",
    "while True:\n",
    "    print(\"\\n---Weather Information---\")\n",
    "    city = input(\"Enter a city name (or 'q' to quit): \").strip()\n",
    "    if city.lower() == 'q':\n",
    "        break\n",
    "    weather = get_weather(city)\n",
    "    if weather:\n",
    "        display_weather(weather)\n",
    "\n",
    "\n"
   ]
  },
  {
   "cell_type": "code",
   "execution_count": null,
   "id": "313145f9",
   "metadata": {},
   "outputs": [],
   "source": []
  }
 ],
 "metadata": {
  "kernelspec": {
   "display_name": "Python 3",
   "language": "python",
   "name": "python3"
  },
  "language_info": {
   "codemirror_mode": {
    "name": "ipython",
    "version": 3
   },
   "file_extension": ".py",
   "mimetype": "text/x-python",
   "name": "python",
   "nbconvert_exporter": "python",
   "pygments_lexer": "ipython3",
   "version": "3.13.1"
  }
 },
 "nbformat": 4,
 "nbformat_minor": 5
}
